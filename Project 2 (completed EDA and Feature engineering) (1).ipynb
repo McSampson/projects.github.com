{
 "cells": [
  {
   "cell_type": "markdown",
   "metadata": {},
   "source": [
    "# PROJECT 2"
   ]
  },
  {
   "cell_type": "markdown",
   "metadata": {},
   "source": [
    "## Importing Libraries  "
   ]
  },
  {
   "cell_type": "code",
   "execution_count": 1,
   "metadata": {},
   "outputs": [],
   "source": [
    "import numpy as np\n",
    "import pandas as pd\n",
    "import matplotlib.pyplot as plt\n",
    "import seaborn as sns\n",
    "%matplotlib inline"
   ]
  },
  {
   "cell_type": "markdown",
   "metadata": {},
   "source": [
    "##  Loading Datasets   "
   ]
  },
  {
   "cell_type": "code",
   "execution_count": 2,
   "metadata": {},
   "outputs": [],
   "source": [
    "Train_Data=pd.read_csv(\"C:\\\\Users\\\\me\\\\Downloads\\\\Train.csv\")\n",
    "Riders_Data=pd.read_csv(\"C:\\\\Users\\\\me\\\\Downloads\\\\Riders.csv\")"
   ]
  },
  {
   "cell_type": "markdown",
   "metadata": {},
   "source": [
    "## Merging Datasets "
   ]
  },
  {
   "cell_type": "code",
   "execution_count": 3,
   "metadata": {},
   "outputs": [],
   "source": [
    "Complete_Dataset=Train_Data.merge(Riders_Data, on='Rider Id')"
   ]
  },
  {
   "cell_type": "code",
   "execution_count": 4,
   "metadata": {},
   "outputs": [
    {
     "data": {
      "text/html": [
       "<div>\n",
       "<style scoped>\n",
       "    .dataframe tbody tr th:only-of-type {\n",
       "        vertical-align: middle;\n",
       "    }\n",
       "\n",
       "    .dataframe tbody tr th {\n",
       "        vertical-align: top;\n",
       "    }\n",
       "\n",
       "    .dataframe thead th {\n",
       "        text-align: right;\n",
       "    }\n",
       "</style>\n",
       "<table border=\"1\" class=\"dataframe\">\n",
       "  <thead>\n",
       "    <tr style=\"text-align: right;\">\n",
       "      <th></th>\n",
       "      <th>Order No</th>\n",
       "      <th>User Id</th>\n",
       "      <th>Vehicle Type</th>\n",
       "      <th>Platform Type</th>\n",
       "      <th>Personal or Business</th>\n",
       "      <th>Placement - Day of Month</th>\n",
       "      <th>Placement - Weekday (Mo = 1)</th>\n",
       "      <th>Placement - Time</th>\n",
       "      <th>Confirmation - Day of Month</th>\n",
       "      <th>Confirmation - Weekday (Mo = 1)</th>\n",
       "      <th>...</th>\n",
       "      <th>Pickup Lat</th>\n",
       "      <th>Pickup Long</th>\n",
       "      <th>Destination Lat</th>\n",
       "      <th>Destination Long</th>\n",
       "      <th>Rider Id</th>\n",
       "      <th>Time from Pickup to Arrival</th>\n",
       "      <th>No_Of_Orders</th>\n",
       "      <th>Age</th>\n",
       "      <th>Average_Rating</th>\n",
       "      <th>No_of_Ratings</th>\n",
       "    </tr>\n",
       "  </thead>\n",
       "  <tbody>\n",
       "    <tr>\n",
       "      <th>0</th>\n",
       "      <td>Order_No_4211</td>\n",
       "      <td>User_Id_633</td>\n",
       "      <td>Bike</td>\n",
       "      <td>3</td>\n",
       "      <td>Business</td>\n",
       "      <td>9</td>\n",
       "      <td>5</td>\n",
       "      <td>9:35:46 AM</td>\n",
       "      <td>9</td>\n",
       "      <td>5</td>\n",
       "      <td>...</td>\n",
       "      <td>-1.317755</td>\n",
       "      <td>36.830370</td>\n",
       "      <td>-1.300406</td>\n",
       "      <td>36.829741</td>\n",
       "      <td>Rider_Id_432</td>\n",
       "      <td>745</td>\n",
       "      <td>1637</td>\n",
       "      <td>1309</td>\n",
       "      <td>13.8</td>\n",
       "      <td>549</td>\n",
       "    </tr>\n",
       "    <tr>\n",
       "      <th>1</th>\n",
       "      <td>Order_No_27440</td>\n",
       "      <td>User_Id_2642</td>\n",
       "      <td>Bike</td>\n",
       "      <td>3</td>\n",
       "      <td>Personal</td>\n",
       "      <td>18</td>\n",
       "      <td>5</td>\n",
       "      <td>3:41:17 PM</td>\n",
       "      <td>18</td>\n",
       "      <td>5</td>\n",
       "      <td>...</td>\n",
       "      <td>-1.326774</td>\n",
       "      <td>36.787807</td>\n",
       "      <td>-1.356237</td>\n",
       "      <td>36.904295</td>\n",
       "      <td>Rider_Id_432</td>\n",
       "      <td>2886</td>\n",
       "      <td>1637</td>\n",
       "      <td>1309</td>\n",
       "      <td>13.8</td>\n",
       "      <td>549</td>\n",
       "    </tr>\n",
       "    <tr>\n",
       "      <th>2</th>\n",
       "      <td>Order_No_14170</td>\n",
       "      <td>User_Id_3339</td>\n",
       "      <td>Bike</td>\n",
       "      <td>3</td>\n",
       "      <td>Business</td>\n",
       "      <td>31</td>\n",
       "      <td>5</td>\n",
       "      <td>12:51:41 PM</td>\n",
       "      <td>31</td>\n",
       "      <td>5</td>\n",
       "      <td>...</td>\n",
       "      <td>-1.255189</td>\n",
       "      <td>36.782203</td>\n",
       "      <td>-1.273412</td>\n",
       "      <td>36.818206</td>\n",
       "      <td>Rider_Id_432</td>\n",
       "      <td>2615</td>\n",
       "      <td>1637</td>\n",
       "      <td>1309</td>\n",
       "      <td>13.8</td>\n",
       "      <td>549</td>\n",
       "    </tr>\n",
       "    <tr>\n",
       "      <th>3</th>\n",
       "      <td>Order_No_21727</td>\n",
       "      <td>User_Id_3523</td>\n",
       "      <td>Bike</td>\n",
       "      <td>3</td>\n",
       "      <td>Personal</td>\n",
       "      <td>2</td>\n",
       "      <td>2</td>\n",
       "      <td>7:12:10 AM</td>\n",
       "      <td>2</td>\n",
       "      <td>2</td>\n",
       "      <td>...</td>\n",
       "      <td>-1.290315</td>\n",
       "      <td>36.757377</td>\n",
       "      <td>-1.223520</td>\n",
       "      <td>36.802061</td>\n",
       "      <td>Rider_Id_432</td>\n",
       "      <td>2986</td>\n",
       "      <td>1637</td>\n",
       "      <td>1309</td>\n",
       "      <td>13.8</td>\n",
       "      <td>549</td>\n",
       "    </tr>\n",
       "    <tr>\n",
       "      <th>4</th>\n",
       "      <td>Order_No_8301</td>\n",
       "      <td>User_Id_87</td>\n",
       "      <td>Bike</td>\n",
       "      <td>2</td>\n",
       "      <td>Personal</td>\n",
       "      <td>22</td>\n",
       "      <td>2</td>\n",
       "      <td>10:40:58 AM</td>\n",
       "      <td>22</td>\n",
       "      <td>2</td>\n",
       "      <td>...</td>\n",
       "      <td>-1.273524</td>\n",
       "      <td>36.799220</td>\n",
       "      <td>-1.300431</td>\n",
       "      <td>36.752427</td>\n",
       "      <td>Rider_Id_432</td>\n",
       "      <td>1602</td>\n",
       "      <td>1637</td>\n",
       "      <td>1309</td>\n",
       "      <td>13.8</td>\n",
       "      <td>549</td>\n",
       "    </tr>\n",
       "  </tbody>\n",
       "</table>\n",
       "<p>5 rows × 33 columns</p>\n",
       "</div>"
      ],
      "text/plain": [
       "         Order No       User Id Vehicle Type  Platform Type  \\\n",
       "0   Order_No_4211   User_Id_633         Bike              3   \n",
       "1  Order_No_27440  User_Id_2642         Bike              3   \n",
       "2  Order_No_14170  User_Id_3339         Bike              3   \n",
       "3  Order_No_21727  User_Id_3523         Bike              3   \n",
       "4   Order_No_8301    User_Id_87         Bike              2   \n",
       "\n",
       "  Personal or Business  Placement - Day of Month  \\\n",
       "0             Business                         9   \n",
       "1             Personal                        18   \n",
       "2             Business                        31   \n",
       "3             Personal                         2   \n",
       "4             Personal                        22   \n",
       "\n",
       "   Placement - Weekday (Mo = 1) Placement - Time  Confirmation - Day of Month  \\\n",
       "0                             5       9:35:46 AM                            9   \n",
       "1                             5       3:41:17 PM                           18   \n",
       "2                             5      12:51:41 PM                           31   \n",
       "3                             2       7:12:10 AM                            2   \n",
       "4                             2      10:40:58 AM                           22   \n",
       "\n",
       "   Confirmation - Weekday (Mo = 1)  ... Pickup Lat  Pickup Long  \\\n",
       "0                                5  ...  -1.317755    36.830370   \n",
       "1                                5  ...  -1.326774    36.787807   \n",
       "2                                5  ...  -1.255189    36.782203   \n",
       "3                                2  ...  -1.290315    36.757377   \n",
       "4                                2  ...  -1.273524    36.799220   \n",
       "\n",
       "   Destination Lat Destination Long      Rider Id  \\\n",
       "0        -1.300406        36.829741  Rider_Id_432   \n",
       "1        -1.356237        36.904295  Rider_Id_432   \n",
       "2        -1.273412        36.818206  Rider_Id_432   \n",
       "3        -1.223520        36.802061  Rider_Id_432   \n",
       "4        -1.300431        36.752427  Rider_Id_432   \n",
       "\n",
       "   Time from Pickup to Arrival No_Of_Orders   Age  Average_Rating  \\\n",
       "0                          745         1637  1309            13.8   \n",
       "1                         2886         1637  1309            13.8   \n",
       "2                         2615         1637  1309            13.8   \n",
       "3                         2986         1637  1309            13.8   \n",
       "4                         1602         1637  1309            13.8   \n",
       "\n",
       "  No_of_Ratings  \n",
       "0           549  \n",
       "1           549  \n",
       "2           549  \n",
       "3           549  \n",
       "4           549  \n",
       "\n",
       "[5 rows x 33 columns]"
      ]
     },
     "execution_count": 4,
     "metadata": {},
     "output_type": "execute_result"
    }
   ],
   "source": [
    "Complete_Dataset.head()"
   ]
  },
  {
   "cell_type": "markdown",
   "metadata": {},
   "source": [
    "#  "
   ]
  },
  {
   "cell_type": "markdown",
   "metadata": {},
   "source": [
    "## EDA "
   ]
  },
  {
   "cell_type": "markdown",
   "metadata": {},
   "source": [
    "## Grouping Data by Placement Day of Month  "
   ]
  },
  {
   "cell_type": "code",
   "execution_count": 5,
   "metadata": {},
   "outputs": [],
   "source": [
    "Placement_Day_Grouped=Complete_Dataset.groupby(['Placement - Day of Month'], as_index=False).mean()"
   ]
  },
  {
   "cell_type": "code",
   "execution_count": 6,
   "metadata": {},
   "outputs": [],
   "source": [
    "PDG=Placement_Day_Grouped[['Placement - Day of Month','Time from Pickup to Arrival']].sort_values('Time from Pickup to Arrival',ascending=False)"
   ]
  },
  {
   "cell_type": "code",
   "execution_count": 7,
   "metadata": {},
   "outputs": [],
   "source": [
    "PDG['Time from Pickup to Arrival']=PDG['Time from Pickup to Arrival']/60"
   ]
  },
  {
   "cell_type": "markdown",
   "metadata": {},
   "source": [
    "## Graphical Representation of ETA on Various days  "
   ]
  },
  {
   "cell_type": "code",
   "execution_count": 8,
   "metadata": {},
   "outputs": [
    {
     "data": {
      "text/plain": [
       "<matplotlib.axes._subplots.AxesSubplot at 0x2c0e4c38ac8>"
      ]
     },
     "execution_count": 8,
     "metadata": {},
     "output_type": "execute_result"
    },
    {
     "data": {
      "image/png": "[encoded data removed]",
      "text/plain": [
       "<Figure size 432x288 with 1 Axes>"
      ]
     },
     "metadata": {
      "needs_background": "light"
     },
     "output_type": "display_data"
    }
   ],
   "source": [
    "sns.barplot(x='Placement - Day of Month',y='Time from Pickup to Arrival',data=PDG)"
   ]
  },
  {
   "cell_type": "markdown",
   "metadata": {},
   "source": [
    "### From the above data, it is obvious that the average ETA for the various placement days are not significantly different "
   ]
  },
  {
   "cell_type": "markdown",
   "metadata": {},
   "source": [
    "### Grouping Data by Placement Weekday  "
   ]
  },
  {
   "cell_type": "code",
   "execution_count": 9,
   "metadata": {},
   "outputs": [],
   "source": [
    "Placement_Weekday_Grouped=Complete_Dataset.groupby(['Placement - Weekday (Mo = 1)'], as_index=False).mean()"
   ]
  },
  {
   "cell_type": "code",
   "execution_count": 10,
   "metadata": {},
   "outputs": [],
   "source": [
    "PWG=Placement_Weekday_Grouped[['Placement - Weekday (Mo = 1)','Time from Pickup to Arrival']].sort_values('Time from Pickup to Arrival',ascending=False)"
   ]
  },
  {
   "cell_type": "markdown",
   "metadata": {},
   "source": [
    "### On the average, it takes much time to deliver on orders placed on Sundays and Fridays. Placements on Mondays and Saturdays are faster. "
   ]
  },
  {
   "cell_type": "markdown",
   "metadata": {},
   "source": [
    "##  "
   ]
  },
  {
   "cell_type": "markdown",
   "metadata": {},
   "source": [
    "## Grouping Data by Confirmation Day of Month"
   ]
  },
  {
   "cell_type": "code",
   "execution_count": 11,
   "metadata": {},
   "outputs": [],
   "source": [
    "Confirmation_Day_Grouped=Complete_Dataset.groupby(['Confirmation - Day of Month'], as_index=False).mean()"
   ]
  },
  {
   "cell_type": "code",
   "execution_count": 12,
   "metadata": {},
   "outputs": [],
   "source": [
    "CDG=Confirmation_Day_Grouped[['Confirmation - Day of Month','Time from Pickup to Arrival']].sort_values('Time from Pickup to Arrival',ascending=False)"
   ]
  },
  {
   "cell_type": "code",
   "execution_count": 13,
   "metadata": {},
   "outputs": [
    {
     "data": {
      "text/html": [
       "<div>\n",
       "<style scoped>\n",
       "    .dataframe tbody tr th:only-of-type {\n",
       "        vertical-align: middle;\n",
       "    }\n",
       "\n",
       "    .dataframe tbody tr th {\n",
       "        vertical-align: top;\n",
       "    }\n",
       "\n",
       "    .dataframe thead th {\n",
       "        text-align: right;\n",
       "    }\n",
       "</style>\n",
       "<table border=\"1\" class=\"dataframe\">\n",
       "  <thead>\n",
       "    <tr style=\"text-align: right;\">\n",
       "      <th></th>\n",
       "      <th>Confirmation - Day of Month</th>\n",
       "      <th>Time from Pickup to Arrival</th>\n",
       "    </tr>\n",
       "  </thead>\n",
       "  <tbody>\n",
       "    <tr>\n",
       "      <th>7</th>\n",
       "      <td>8</td>\n",
       "      <td>1650.161557</td>\n",
       "    </tr>\n",
       "    <tr>\n",
       "      <th>8</th>\n",
       "      <td>9</td>\n",
       "      <td>1636.578711</td>\n",
       "    </tr>\n",
       "    <tr>\n",
       "      <th>29</th>\n",
       "      <td>30</td>\n",
       "      <td>1602.392157</td>\n",
       "    </tr>\n",
       "    <tr>\n",
       "      <th>11</th>\n",
       "      <td>12</td>\n",
       "      <td>1596.331832</td>\n",
       "    </tr>\n",
       "    <tr>\n",
       "      <th>9</th>\n",
       "      <td>10</td>\n",
       "      <td>1589.863188</td>\n",
       "    </tr>\n",
       "    <tr>\n",
       "      <th>13</th>\n",
       "      <td>14</td>\n",
       "      <td>1589.348259</td>\n",
       "    </tr>\n",
       "    <tr>\n",
       "      <th>3</th>\n",
       "      <td>4</td>\n",
       "      <td>1589.240572</td>\n",
       "    </tr>\n",
       "    <tr>\n",
       "      <th>20</th>\n",
       "      <td>21</td>\n",
       "      <td>1587.523883</td>\n",
       "    </tr>\n",
       "    <tr>\n",
       "      <th>6</th>\n",
       "      <td>7</td>\n",
       "      <td>1584.419708</td>\n",
       "    </tr>\n",
       "    <tr>\n",
       "      <th>17</th>\n",
       "      <td>18</td>\n",
       "      <td>1583.092208</td>\n",
       "    </tr>\n",
       "    <tr>\n",
       "      <th>5</th>\n",
       "      <td>6</td>\n",
       "      <td>1578.428212</td>\n",
       "    </tr>\n",
       "    <tr>\n",
       "      <th>19</th>\n",
       "      <td>20</td>\n",
       "      <td>1578.175739</td>\n",
       "    </tr>\n",
       "    <tr>\n",
       "      <th>0</th>\n",
       "      <td>1</td>\n",
       "      <td>1561.139004</td>\n",
       "    </tr>\n",
       "    <tr>\n",
       "      <th>12</th>\n",
       "      <td>13</td>\n",
       "      <td>1560.205665</td>\n",
       "    </tr>\n",
       "    <tr>\n",
       "      <th>18</th>\n",
       "      <td>19</td>\n",
       "      <td>1551.650255</td>\n",
       "    </tr>\n",
       "    <tr>\n",
       "      <th>27</th>\n",
       "      <td>28</td>\n",
       "      <td>1550.485969</td>\n",
       "    </tr>\n",
       "    <tr>\n",
       "      <th>10</th>\n",
       "      <td>11</td>\n",
       "      <td>1550.347537</td>\n",
       "    </tr>\n",
       "    <tr>\n",
       "      <th>14</th>\n",
       "      <td>15</td>\n",
       "      <td>1544.060367</td>\n",
       "    </tr>\n",
       "    <tr>\n",
       "      <th>22</th>\n",
       "      <td>23</td>\n",
       "      <td>1539.912966</td>\n",
       "    </tr>\n",
       "    <tr>\n",
       "      <th>2</th>\n",
       "      <td>3</td>\n",
       "      <td>1537.409471</td>\n",
       "    </tr>\n",
       "    <tr>\n",
       "      <th>1</th>\n",
       "      <td>2</td>\n",
       "      <td>1537.162791</td>\n",
       "    </tr>\n",
       "    <tr>\n",
       "      <th>30</th>\n",
       "      <td>31</td>\n",
       "      <td>1536.421634</td>\n",
       "    </tr>\n",
       "    <tr>\n",
       "      <th>25</th>\n",
       "      <td>26</td>\n",
       "      <td>1536.123631</td>\n",
       "    </tr>\n",
       "    <tr>\n",
       "      <th>21</th>\n",
       "      <td>22</td>\n",
       "      <td>1532.955385</td>\n",
       "    </tr>\n",
       "    <tr>\n",
       "      <th>24</th>\n",
       "      <td>25</td>\n",
       "      <td>1517.675832</td>\n",
       "    </tr>\n",
       "    <tr>\n",
       "      <th>4</th>\n",
       "      <td>5</td>\n",
       "      <td>1515.706827</td>\n",
       "    </tr>\n",
       "    <tr>\n",
       "      <th>28</th>\n",
       "      <td>29</td>\n",
       "      <td>1505.281752</td>\n",
       "    </tr>\n",
       "    <tr>\n",
       "      <th>26</th>\n",
       "      <td>27</td>\n",
       "      <td>1494.273134</td>\n",
       "    </tr>\n",
       "    <tr>\n",
       "      <th>16</th>\n",
       "      <td>17</td>\n",
       "      <td>1492.739865</td>\n",
       "    </tr>\n",
       "    <tr>\n",
       "      <th>23</th>\n",
       "      <td>24</td>\n",
       "      <td>1480.967851</td>\n",
       "    </tr>\n",
       "    <tr>\n",
       "      <th>15</th>\n",
       "      <td>16</td>\n",
       "      <td>1470.899115</td>\n",
       "    </tr>\n",
       "  </tbody>\n",
       "</table>\n",
       "</div>"
      ],
      "text/plain": [
       "    Confirmation - Day of Month  Time from Pickup to Arrival\n",
       "7                             8                  1650.161557\n",
       "8                             9                  1636.578711\n",
       "29                           30                  1602.392157\n",
       "11                           12                  1596.331832\n",
       "9                            10                  1589.863188\n",
       "13                           14                  1589.348259\n",
       "3                             4                  1589.240572\n",
       "20                           21                  1587.523883\n",
       "6                             7                  1584.419708\n",
       "17                           18                  1583.092208\n",
       "5                             6                  1578.428212\n",
       "19                           20                  1578.175739\n",
       "0                             1                  1561.139004\n",
       "12                           13                  1560.205665\n",
       "18                           19                  1551.650255\n",
       "27                           28                  1550.485969\n",
       "10                           11                  1550.347537\n",
       "14                           15                  1544.060367\n",
       "22                           23                  1539.912966\n",
       "2                             3                  1537.409471\n",
       "1                             2                  1537.162791\n",
       "30                           31                  1536.421634\n",
       "25                           26                  1536.123631\n",
       "21                           22                  1532.955385\n",
       "24                           25                  1517.675832\n",
       "4                             5                  1515.706827\n",
       "28                           29                  1505.281752\n",
       "26                           27                  1494.273134\n",
       "16                           17                  1492.739865\n",
       "23                           24                  1480.967851\n",
       "15                           16                  1470.899115"
      ]
     },
     "execution_count": 13,
     "metadata": {},
     "output_type": "execute_result"
    }
   ],
   "source": [
    "CDG"
   ]
  },
  {
   "cell_type": "markdown",
   "metadata": {},
   "source": [
    "### From the above data, it is obvious that the average ETA for the various confirmation days are not significantly different. "
   ]
  },
  {
   "cell_type": "markdown",
   "metadata": {},
   "source": [
    "### Grouping Data by Confirmation Weekday "
   ]
  },
  {
   "cell_type": "code",
   "execution_count": 14,
   "metadata": {},
   "outputs": [],
   "source": [
    "Confirmation_Weekday_Grouped=Complete_Dataset.groupby(['Confirmation - Weekday (Mo = 1)'], as_index=False).mean()"
   ]
  },
  {
   "cell_type": "code",
   "execution_count": 15,
   "metadata": {},
   "outputs": [],
   "source": [
    "CWG=Confirmation_Weekday_Grouped[['Confirmation - Weekday (Mo = 1)','Time from Pickup to Arrival']].sort_values('Time from Pickup to Arrival',ascending=False)"
   ]
  },
  {
   "cell_type": "code",
   "execution_count": 16,
   "metadata": {},
   "outputs": [
    {
     "data": {
      "text/html": [
       "<div>\n",
       "<style scoped>\n",
       "    .dataframe tbody tr th:only-of-type {\n",
       "        vertical-align: middle;\n",
       "    }\n",
       "\n",
       "    .dataframe tbody tr th {\n",
       "        vertical-align: top;\n",
       "    }\n",
       "\n",
       "    .dataframe thead th {\n",
       "        text-align: right;\n",
       "    }\n",
       "</style>\n",
       "<table border=\"1\" class=\"dataframe\">\n",
       "  <thead>\n",
       "    <tr style=\"text-align: right;\">\n",
       "      <th></th>\n",
       "      <th>Confirmation - Weekday (Mo = 1)</th>\n",
       "      <th>Time from Pickup to Arrival</th>\n",
       "    </tr>\n",
       "  </thead>\n",
       "  <tbody>\n",
       "    <tr>\n",
       "      <th>6</th>\n",
       "      <td>7</td>\n",
       "      <td>1683.032258</td>\n",
       "    </tr>\n",
       "    <tr>\n",
       "      <th>4</th>\n",
       "      <td>5</td>\n",
       "      <td>1595.178813</td>\n",
       "    </tr>\n",
       "    <tr>\n",
       "      <th>1</th>\n",
       "      <td>2</td>\n",
       "      <td>1590.174792</td>\n",
       "    </tr>\n",
       "    <tr>\n",
       "      <th>2</th>\n",
       "      <td>3</td>\n",
       "      <td>1573.379545</td>\n",
       "    </tr>\n",
       "    <tr>\n",
       "      <th>3</th>\n",
       "      <td>4</td>\n",
       "      <td>1556.176638</td>\n",
       "    </tr>\n",
       "    <tr>\n",
       "      <th>0</th>\n",
       "      <td>1</td>\n",
       "      <td>1495.779303</td>\n",
       "    </tr>\n",
       "    <tr>\n",
       "      <th>5</th>\n",
       "      <td>6</td>\n",
       "      <td>1445.685200</td>\n",
       "    </tr>\n",
       "  </tbody>\n",
       "</table>\n",
       "</div>"
      ],
      "text/plain": [
       "   Confirmation - Weekday (Mo = 1)  Time from Pickup to Arrival\n",
       "6                                7                  1683.032258\n",
       "4                                5                  1595.178813\n",
       "1                                2                  1590.174792\n",
       "2                                3                  1573.379545\n",
       "3                                4                  1556.176638\n",
       "0                                1                  1495.779303\n",
       "5                                6                  1445.685200"
      ]
     },
     "execution_count": 16,
     "metadata": {},
     "output_type": "execute_result"
    }
   ],
   "source": [
    "CWG"
   ]
  },
  {
   "cell_type": "markdown",
   "metadata": {},
   "source": [
    "### On the average, it takes much time to deliver on orders confirmed on Sundays and Fridays. Placements on Mondays and Saturdays are faster. "
   ]
  },
  {
   "cell_type": "markdown",
   "metadata": {},
   "source": [
    "#  "
   ]
  },
  {
   "cell_type": "code",
   "execution_count": 17,
   "metadata": {},
   "outputs": [],
   "source": [
    "Pickup_Day_Grouped=Complete_Dataset.groupby(['Pickup - Day of Month'], as_index=False).mean()           "
   ]
  },
  {
   "cell_type": "code",
   "execution_count": 18,
   "metadata": {},
   "outputs": [],
   "source": [
    "PkDG=Pickup_Day_Grouped[['Pickup - Day of Month','Time from Pickup to Arrival']].sort_values('Time from Pickup to Arrival',ascending=False)"
   ]
  },
  {
   "cell_type": "code",
   "execution_count": 19,
   "metadata": {},
   "outputs": [
    {
     "data": {
      "text/html": [
       "<div>\n",
       "<style scoped>\n",
       "    .dataframe tbody tr th:only-of-type {\n",
       "        vertical-align: middle;\n",
       "    }\n",
       "\n",
       "    .dataframe tbody tr th {\n",
       "        vertical-align: top;\n",
       "    }\n",
       "\n",
       "    .dataframe thead th {\n",
       "        text-align: right;\n",
       "    }\n",
       "</style>\n",
       "<table border=\"1\" class=\"dataframe\">\n",
       "  <thead>\n",
       "    <tr style=\"text-align: right;\">\n",
       "      <th></th>\n",
       "      <th>Pickup - Day of Month</th>\n",
       "      <th>Time from Pickup to Arrival</th>\n",
       "    </tr>\n",
       "  </thead>\n",
       "  <tbody>\n",
       "    <tr>\n",
       "      <th>7</th>\n",
       "      <td>8</td>\n",
       "      <td>1650.161557</td>\n",
       "    </tr>\n",
       "    <tr>\n",
       "      <th>8</th>\n",
       "      <td>9</td>\n",
       "      <td>1636.578711</td>\n",
       "    </tr>\n",
       "    <tr>\n",
       "      <th>29</th>\n",
       "      <td>30</td>\n",
       "      <td>1602.392157</td>\n",
       "    </tr>\n",
       "    <tr>\n",
       "      <th>11</th>\n",
       "      <td>12</td>\n",
       "      <td>1596.331832</td>\n",
       "    </tr>\n",
       "    <tr>\n",
       "      <th>9</th>\n",
       "      <td>10</td>\n",
       "      <td>1589.863188</td>\n",
       "    </tr>\n",
       "    <tr>\n",
       "      <th>13</th>\n",
       "      <td>14</td>\n",
       "      <td>1589.348259</td>\n",
       "    </tr>\n",
       "    <tr>\n",
       "      <th>3</th>\n",
       "      <td>4</td>\n",
       "      <td>1589.240572</td>\n",
       "    </tr>\n",
       "    <tr>\n",
       "      <th>20</th>\n",
       "      <td>21</td>\n",
       "      <td>1587.523883</td>\n",
       "    </tr>\n",
       "    <tr>\n",
       "      <th>6</th>\n",
       "      <td>7</td>\n",
       "      <td>1584.419708</td>\n",
       "    </tr>\n",
       "    <tr>\n",
       "      <th>17</th>\n",
       "      <td>18</td>\n",
       "      <td>1583.092208</td>\n",
       "    </tr>\n",
       "    <tr>\n",
       "      <th>5</th>\n",
       "      <td>6</td>\n",
       "      <td>1578.428212</td>\n",
       "    </tr>\n",
       "    <tr>\n",
       "      <th>19</th>\n",
       "      <td>20</td>\n",
       "      <td>1578.175739</td>\n",
       "    </tr>\n",
       "    <tr>\n",
       "      <th>0</th>\n",
       "      <td>1</td>\n",
       "      <td>1561.139004</td>\n",
       "    </tr>\n",
       "    <tr>\n",
       "      <th>12</th>\n",
       "      <td>13</td>\n",
       "      <td>1560.205665</td>\n",
       "    </tr>\n",
       "    <tr>\n",
       "      <th>18</th>\n",
       "      <td>19</td>\n",
       "      <td>1551.650255</td>\n",
       "    </tr>\n",
       "    <tr>\n",
       "      <th>27</th>\n",
       "      <td>28</td>\n",
       "      <td>1550.485969</td>\n",
       "    </tr>\n",
       "    <tr>\n",
       "      <th>10</th>\n",
       "      <td>11</td>\n",
       "      <td>1550.347537</td>\n",
       "    </tr>\n",
       "    <tr>\n",
       "      <th>14</th>\n",
       "      <td>15</td>\n",
       "      <td>1544.060367</td>\n",
       "    </tr>\n",
       "    <tr>\n",
       "      <th>22</th>\n",
       "      <td>23</td>\n",
       "      <td>1539.912966</td>\n",
       "    </tr>\n",
       "    <tr>\n",
       "      <th>2</th>\n",
       "      <td>3</td>\n",
       "      <td>1537.409471</td>\n",
       "    </tr>\n",
       "    <tr>\n",
       "      <th>1</th>\n",
       "      <td>2</td>\n",
       "      <td>1537.162791</td>\n",
       "    </tr>\n",
       "    <tr>\n",
       "      <th>30</th>\n",
       "      <td>31</td>\n",
       "      <td>1536.421634</td>\n",
       "    </tr>\n",
       "    <tr>\n",
       "      <th>25</th>\n",
       "      <td>26</td>\n",
       "      <td>1536.123631</td>\n",
       "    </tr>\n",
       "    <tr>\n",
       "      <th>21</th>\n",
       "      <td>22</td>\n",
       "      <td>1532.955385</td>\n",
       "    </tr>\n",
       "    <tr>\n",
       "      <th>24</th>\n",
       "      <td>25</td>\n",
       "      <td>1517.675832</td>\n",
       "    </tr>\n",
       "    <tr>\n",
       "      <th>4</th>\n",
       "      <td>5</td>\n",
       "      <td>1515.706827</td>\n",
       "    </tr>\n",
       "    <tr>\n",
       "      <th>28</th>\n",
       "      <td>29</td>\n",
       "      <td>1505.281752</td>\n",
       "    </tr>\n",
       "    <tr>\n",
       "      <th>26</th>\n",
       "      <td>27</td>\n",
       "      <td>1494.273134</td>\n",
       "    </tr>\n",
       "    <tr>\n",
       "      <th>16</th>\n",
       "      <td>17</td>\n",
       "      <td>1492.739865</td>\n",
       "    </tr>\n",
       "    <tr>\n",
       "      <th>23</th>\n",
       "      <td>24</td>\n",
       "      <td>1480.967851</td>\n",
       "    </tr>\n",
       "    <tr>\n",
       "      <th>15</th>\n",
       "      <td>16</td>\n",
       "      <td>1470.899115</td>\n",
       "    </tr>\n",
       "  </tbody>\n",
       "</table>\n",
       "</div>"
      ],
      "text/plain": [
       "    Pickup - Day of Month  Time from Pickup to Arrival\n",
       "7                       8                  1650.161557\n",
       "8                       9                  1636.578711\n",
       "29                     30                  1602.392157\n",
       "11                     12                  1596.331832\n",
       "9                      10                  1589.863188\n",
       "13                     14                  1589.348259\n",
       "3                       4                  1589.240572\n",
       "20                     21                  1587.523883\n",
       "6                       7                  1584.419708\n",
       "17                     18                  1583.092208\n",
       "5                       6                  1578.428212\n",
       "19                     20                  1578.175739\n",
       "0                       1                  1561.139004\n",
       "12                     13                  1560.205665\n",
       "18                     19                  1551.650255\n",
       "27                     28                  1550.485969\n",
       "10                     11                  1550.347537\n",
       "14                     15                  1544.060367\n",
       "22                     23                  1539.912966\n",
       "2                       3                  1537.409471\n",
       "1                       2                  1537.162791\n",
       "30                     31                  1536.421634\n",
       "25                     26                  1536.123631\n",
       "21                     22                  1532.955385\n",
       "24                     25                  1517.675832\n",
       "4                       5                  1515.706827\n",
       "28                     29                  1505.281752\n",
       "26                     27                  1494.273134\n",
       "16                     17                  1492.739865\n",
       "23                     24                  1480.967851\n",
       "15                     16                  1470.899115"
      ]
     },
     "execution_count": 19,
     "metadata": {},
     "output_type": "execute_result"
    }
   ],
   "source": [
    "PkDG"
   ]
  },
  {
   "cell_type": "markdown",
   "metadata": {},
   "source": [
    "#  "
   ]
  },
  {
   "cell_type": "code",
   "execution_count": 20,
   "metadata": {},
   "outputs": [],
   "source": [
    "Pickup_Weekday_Grouped=Complete_Dataset.groupby(['Pickup - Weekday (Mo = 1)'], as_index=False).mean()"
   ]
  },
  {
   "cell_type": "code",
   "execution_count": 21,
   "metadata": {},
   "outputs": [],
   "source": [
    "PkWG=Pickup_Weekday_Grouped[['Pickup - Weekday (Mo = 1)','Time from Pickup to Arrival']].sort_values('Time from Pickup to Arrival',ascending=False)"
   ]
  },
  {
   "cell_type": "code",
   "execution_count": 22,
   "metadata": {},
   "outputs": [
    {
     "data": {
      "text/html": [
       "<div>\n",
       "<style scoped>\n",
       "    .dataframe tbody tr th:only-of-type {\n",
       "        vertical-align: middle;\n",
       "    }\n",
       "\n",
       "    .dataframe tbody tr th {\n",
       "        vertical-align: top;\n",
       "    }\n",
       "\n",
       "    .dataframe thead th {\n",
       "        text-align: right;\n",
       "    }\n",
       "</style>\n",
       "<table border=\"1\" class=\"dataframe\">\n",
       "  <thead>\n",
       "    <tr style=\"text-align: right;\">\n",
       "      <th></th>\n",
       "      <th>Pickup - Weekday (Mo = 1)</th>\n",
       "      <th>Time from Pickup to Arrival</th>\n",
       "    </tr>\n",
       "  </thead>\n",
       "  <tbody>\n",
       "    <tr>\n",
       "      <th>6</th>\n",
       "      <td>7</td>\n",
       "      <td>1683.032258</td>\n",
       "    </tr>\n",
       "    <tr>\n",
       "      <th>4</th>\n",
       "      <td>5</td>\n",
       "      <td>1595.178813</td>\n",
       "    </tr>\n",
       "    <tr>\n",
       "      <th>1</th>\n",
       "      <td>2</td>\n",
       "      <td>1590.174792</td>\n",
       "    </tr>\n",
       "    <tr>\n",
       "      <th>2</th>\n",
       "      <td>3</td>\n",
       "      <td>1573.379545</td>\n",
       "    </tr>\n",
       "    <tr>\n",
       "      <th>3</th>\n",
       "      <td>4</td>\n",
       "      <td>1556.176638</td>\n",
       "    </tr>\n",
       "    <tr>\n",
       "      <th>0</th>\n",
       "      <td>1</td>\n",
       "      <td>1495.779303</td>\n",
       "    </tr>\n",
       "    <tr>\n",
       "      <th>5</th>\n",
       "      <td>6</td>\n",
       "      <td>1445.685200</td>\n",
       "    </tr>\n",
       "  </tbody>\n",
       "</table>\n",
       "</div>"
      ],
      "text/plain": [
       "   Pickup - Weekday (Mo = 1)  Time from Pickup to Arrival\n",
       "6                          7                  1683.032258\n",
       "4                          5                  1595.178813\n",
       "1                          2                  1590.174792\n",
       "2                          3                  1573.379545\n",
       "3                          4                  1556.176638\n",
       "0                          1                  1495.779303\n",
       "5                          6                  1445.685200"
      ]
     },
     "execution_count": 22,
     "metadata": {},
     "output_type": "execute_result"
    }
   ],
   "source": [
    "PkWG"
   ]
  },
  {
   "cell_type": "markdown",
   "metadata": {},
   "source": [
    "#  "
   ]
  },
  {
   "cell_type": "markdown",
   "metadata": {},
   "source": [
    "## Grouping by Platform type"
   ]
  },
  {
   "cell_type": "code",
   "execution_count": 23,
   "metadata": {},
   "outputs": [],
   "source": [
    "Platform_Grouped=Complete_Dataset.groupby(['Platform Type'], as_index=False).mean()"
   ]
  },
  {
   "cell_type": "code",
   "execution_count": 24,
   "metadata": {},
   "outputs": [],
   "source": [
    "Platform_Type=Platform_Grouped[['Platform Type','Time from Pickup to Arrival']].sort_values('Time from Pickup to Arrival',ascending=False)"
   ]
  },
  {
   "cell_type": "code",
   "execution_count": 25,
   "metadata": {},
   "outputs": [
    {
     "data": {
      "text/html": [
       "<div>\n",
       "<style scoped>\n",
       "    .dataframe tbody tr th:only-of-type {\n",
       "        vertical-align: middle;\n",
       "    }\n",
       "\n",
       "    .dataframe tbody tr th {\n",
       "        vertical-align: top;\n",
       "    }\n",
       "\n",
       "    .dataframe thead th {\n",
       "        text-align: right;\n",
       "    }\n",
       "</style>\n",
       "<table border=\"1\" class=\"dataframe\">\n",
       "  <thead>\n",
       "    <tr style=\"text-align: right;\">\n",
       "      <th></th>\n",
       "      <th>Platform Type</th>\n",
       "      <th>Time from Pickup to Arrival</th>\n",
       "    </tr>\n",
       "  </thead>\n",
       "  <tbody>\n",
       "    <tr>\n",
       "      <th>3</th>\n",
       "      <td>4</td>\n",
       "      <td>1675.150000</td>\n",
       "    </tr>\n",
       "    <tr>\n",
       "      <th>0</th>\n",
       "      <td>1</td>\n",
       "      <td>1572.799721</td>\n",
       "    </tr>\n",
       "    <tr>\n",
       "      <th>2</th>\n",
       "      <td>3</td>\n",
       "      <td>1555.773402</td>\n",
       "    </tr>\n",
       "    <tr>\n",
       "      <th>1</th>\n",
       "      <td>2</td>\n",
       "      <td>1540.861224</td>\n",
       "    </tr>\n",
       "  </tbody>\n",
       "</table>\n",
       "</div>"
      ],
      "text/plain": [
       "   Platform Type  Time from Pickup to Arrival\n",
       "3              4                  1675.150000\n",
       "0              1                  1572.799721\n",
       "2              3                  1555.773402\n",
       "1              2                  1540.861224"
      ]
     },
     "execution_count": 25,
     "metadata": {},
     "output_type": "execute_result"
    }
   ],
   "source": [
    "Platform_Type"
   ]
  },
  {
   "cell_type": "markdown",
   "metadata": {},
   "source": [
    "### Clients on platform 4 have their orders delivered late. Clients on platform 2 get their deliveries faster."
   ]
  },
  {
   "cell_type": "markdown",
   "metadata": {},
   "source": [
    "#  "
   ]
  },
  {
   "cell_type": "markdown",
   "metadata": {},
   "source": [
    "## Grouping by Personal or Business"
   ]
  },
  {
   "cell_type": "code",
   "execution_count": 26,
   "metadata": {},
   "outputs": [],
   "source": [
    "Personal_Business_Grouped=Complete_Dataset.groupby(['Personal or Business'], as_index=False).mean()"
   ]
  },
  {
   "cell_type": "code",
   "execution_count": 27,
   "metadata": {},
   "outputs": [],
   "source": [
    "PBG=Personal_Business_Grouped[['Personal or Business','Time from Pickup to Arrival']].sort_values('Time from Pickup to Arrival',ascending=False)"
   ]
  },
  {
   "cell_type": "code",
   "execution_count": 28,
   "metadata": {},
   "outputs": [
    {
     "data": {
      "text/html": [
       "<div>\n",
       "<style scoped>\n",
       "    .dataframe tbody tr th:only-of-type {\n",
       "        vertical-align: middle;\n",
       "    }\n",
       "\n",
       "    .dataframe tbody tr th {\n",
       "        vertical-align: top;\n",
       "    }\n",
       "\n",
       "    .dataframe thead th {\n",
       "        text-align: right;\n",
       "    }\n",
       "</style>\n",
       "<table border=\"1\" class=\"dataframe\">\n",
       "  <thead>\n",
       "    <tr style=\"text-align: right;\">\n",
       "      <th></th>\n",
       "      <th>Personal or Business</th>\n",
       "      <th>Time from Pickup to Arrival</th>\n",
       "    </tr>\n",
       "  </thead>\n",
       "  <tbody>\n",
       "    <tr>\n",
       "      <th>1</th>\n",
       "      <td>Personal</td>\n",
       "      <td>1585.056327</td>\n",
       "    </tr>\n",
       "    <tr>\n",
       "      <th>0</th>\n",
       "      <td>Business</td>\n",
       "      <td>1550.743270</td>\n",
       "    </tr>\n",
       "  </tbody>\n",
       "</table>\n",
       "</div>"
      ],
      "text/plain": [
       "  Personal or Business  Time from Pickup to Arrival\n",
       "1             Personal                  1585.056327\n",
       "0             Business                  1550.743270"
      ]
     },
     "execution_count": 28,
     "metadata": {},
     "output_type": "execute_result"
    }
   ],
   "source": [
    "PBG"
   ]
  },
  {
   "cell_type": "markdown",
   "metadata": {},
   "source": [
    "#  "
   ]
  },
  {
   "cell_type": "markdown",
   "metadata": {},
   "source": [
    "Business orders are delivered faster than personal orders"
   ]
  },
  {
   "cell_type": "markdown",
   "metadata": {},
   "source": [
    "## Grouping by Personal or Business for Distance "
   ]
  },
  {
   "cell_type": "code",
   "execution_count": 29,
   "metadata": {},
   "outputs": [],
   "source": [
    "Personal_Business_Distance=Complete_Dataset.groupby(['Personal or Business'], as_index=False).mean()"
   ]
  },
  {
   "cell_type": "code",
   "execution_count": 30,
   "metadata": {},
   "outputs": [],
   "source": [
    "PBD=Personal_Business_Distance[['Personal or Business','Distance (KM)']].sort_values('Distance (KM)',ascending=False)"
   ]
  },
  {
   "cell_type": "code",
   "execution_count": 31,
   "metadata": {},
   "outputs": [
    {
     "data": {
      "text/html": [
       "<div>\n",
       "<style scoped>\n",
       "    .dataframe tbody tr th:only-of-type {\n",
       "        vertical-align: middle;\n",
       "    }\n",
       "\n",
       "    .dataframe tbody tr th {\n",
       "        vertical-align: top;\n",
       "    }\n",
       "\n",
       "    .dataframe thead th {\n",
       "        text-align: right;\n",
       "    }\n",
       "</style>\n",
       "<table border=\"1\" class=\"dataframe\">\n",
       "  <thead>\n",
       "    <tr style=\"text-align: right;\">\n",
       "      <th></th>\n",
       "      <th>Personal or Business</th>\n",
       "      <th>Distance (KM)</th>\n",
       "    </tr>\n",
       "  </thead>\n",
       "  <tbody>\n",
       "    <tr>\n",
       "      <th>0</th>\n",
       "      <td>Business</td>\n",
       "      <td>9.525598</td>\n",
       "    </tr>\n",
       "    <tr>\n",
       "      <th>1</th>\n",
       "      <td>Personal</td>\n",
       "      <td>9.419701</td>\n",
       "    </tr>\n",
       "  </tbody>\n",
       "</table>\n",
       "</div>"
      ],
      "text/plain": [
       "  Personal or Business  Distance (KM)\n",
       "0             Business       9.525598\n",
       "1             Personal       9.419701"
      ]
     },
     "execution_count": 31,
     "metadata": {},
     "output_type": "execute_result"
    }
   ],
   "source": [
    "PBD"
   ]
  },
  {
   "cell_type": "markdown",
   "metadata": {},
   "source": [
    "An average distance of 9.5km is covered in delivering Business orders and 9.4 for Personal orders"
   ]
  },
  {
   "cell_type": "markdown",
   "metadata": {},
   "source": [
    "#  "
   ]
  },
  {
   "cell_type": "markdown",
   "metadata": {},
   "source": [
    "## Correlation Matrix for Data "
   ]
  },
  {
   "cell_type": "markdown",
   "metadata": {},
   "source": [
    "Selecting only numeric data "
   ]
  },
  {
   "cell_type": "code",
   "execution_count": 32,
   "metadata": {},
   "outputs": [
    {
     "data": {
      "text/html": [
       "<div>\n",
       "<style scoped>\n",
       "    .dataframe tbody tr th:only-of-type {\n",
       "        vertical-align: middle;\n",
       "    }\n",
       "\n",
       "    .dataframe tbody tr th {\n",
       "        vertical-align: top;\n",
       "    }\n",
       "\n",
       "    .dataframe thead th {\n",
       "        text-align: right;\n",
       "    }\n",
       "</style>\n",
       "<table border=\"1\" class=\"dataframe\">\n",
       "  <thead>\n",
       "    <tr style=\"text-align: right;\">\n",
       "      <th></th>\n",
       "      <th>Platform Type</th>\n",
       "      <th>Placement - Day of Month</th>\n",
       "      <th>Placement - Weekday (Mo = 1)</th>\n",
       "      <th>Confirmation - Day of Month</th>\n",
       "      <th>Confirmation - Weekday (Mo = 1)</th>\n",
       "      <th>Arrival at Pickup - Day of Month</th>\n",
       "      <th>Arrival at Pickup - Weekday (Mo = 1)</th>\n",
       "      <th>Pickup - Day of Month</th>\n",
       "      <th>Pickup - Weekday (Mo = 1)</th>\n",
       "      <th>Arrival at Destination - Day of Month</th>\n",
       "      <th>...</th>\n",
       "      <th>Precipitation in millimeters</th>\n",
       "      <th>Pickup Lat</th>\n",
       "      <th>Pickup Long</th>\n",
       "      <th>Destination Lat</th>\n",
       "      <th>Destination Long</th>\n",
       "      <th>Time from Pickup to Arrival</th>\n",
       "      <th>No_Of_Orders</th>\n",
       "      <th>Age</th>\n",
       "      <th>Average_Rating</th>\n",
       "      <th>No_of_Ratings</th>\n",
       "    </tr>\n",
       "  </thead>\n",
       "  <tbody>\n",
       "    <tr>\n",
       "      <th>0</th>\n",
       "      <td>3</td>\n",
       "      <td>9</td>\n",
       "      <td>5</td>\n",
       "      <td>9</td>\n",
       "      <td>5</td>\n",
       "      <td>9</td>\n",
       "      <td>5</td>\n",
       "      <td>9</td>\n",
       "      <td>5</td>\n",
       "      <td>9</td>\n",
       "      <td>...</td>\n",
       "      <td>NaN</td>\n",
       "      <td>-1.317755</td>\n",
       "      <td>36.830370</td>\n",
       "      <td>-1.300406</td>\n",
       "      <td>36.829741</td>\n",
       "      <td>745</td>\n",
       "      <td>1637</td>\n",
       "      <td>1309</td>\n",
       "      <td>13.8</td>\n",
       "      <td>549</td>\n",
       "    </tr>\n",
       "    <tr>\n",
       "      <th>1</th>\n",
       "      <td>3</td>\n",
       "      <td>18</td>\n",
       "      <td>5</td>\n",
       "      <td>18</td>\n",
       "      <td>5</td>\n",
       "      <td>18</td>\n",
       "      <td>5</td>\n",
       "      <td>18</td>\n",
       "      <td>5</td>\n",
       "      <td>18</td>\n",
       "      <td>...</td>\n",
       "      <td>NaN</td>\n",
       "      <td>-1.326774</td>\n",
       "      <td>36.787807</td>\n",
       "      <td>-1.356237</td>\n",
       "      <td>36.904295</td>\n",
       "      <td>2886</td>\n",
       "      <td>1637</td>\n",
       "      <td>1309</td>\n",
       "      <td>13.8</td>\n",
       "      <td>549</td>\n",
       "    </tr>\n",
       "    <tr>\n",
       "      <th>2</th>\n",
       "      <td>3</td>\n",
       "      <td>31</td>\n",
       "      <td>5</td>\n",
       "      <td>31</td>\n",
       "      <td>5</td>\n",
       "      <td>31</td>\n",
       "      <td>5</td>\n",
       "      <td>31</td>\n",
       "      <td>5</td>\n",
       "      <td>31</td>\n",
       "      <td>...</td>\n",
       "      <td>NaN</td>\n",
       "      <td>-1.255189</td>\n",
       "      <td>36.782203</td>\n",
       "      <td>-1.273412</td>\n",
       "      <td>36.818206</td>\n",
       "      <td>2615</td>\n",
       "      <td>1637</td>\n",
       "      <td>1309</td>\n",
       "      <td>13.8</td>\n",
       "      <td>549</td>\n",
       "    </tr>\n",
       "    <tr>\n",
       "      <th>3</th>\n",
       "      <td>3</td>\n",
       "      <td>2</td>\n",
       "      <td>2</td>\n",
       "      <td>2</td>\n",
       "      <td>2</td>\n",
       "      <td>2</td>\n",
       "      <td>2</td>\n",
       "      <td>2</td>\n",
       "      <td>2</td>\n",
       "      <td>2</td>\n",
       "      <td>...</td>\n",
       "      <td>NaN</td>\n",
       "      <td>-1.290315</td>\n",
       "      <td>36.757377</td>\n",
       "      <td>-1.223520</td>\n",
       "      <td>36.802061</td>\n",
       "      <td>2986</td>\n",
       "      <td>1637</td>\n",
       "      <td>1309</td>\n",
       "      <td>13.8</td>\n",
       "      <td>549</td>\n",
       "    </tr>\n",
       "    <tr>\n",
       "      <th>4</th>\n",
       "      <td>2</td>\n",
       "      <td>22</td>\n",
       "      <td>2</td>\n",
       "      <td>22</td>\n",
       "      <td>2</td>\n",
       "      <td>22</td>\n",
       "      <td>2</td>\n",
       "      <td>22</td>\n",
       "      <td>2</td>\n",
       "      <td>22</td>\n",
       "      <td>...</td>\n",
       "      <td>NaN</td>\n",
       "      <td>-1.273524</td>\n",
       "      <td>36.799220</td>\n",
       "      <td>-1.300431</td>\n",
       "      <td>36.752427</td>\n",
       "      <td>1602</td>\n",
       "      <td>1637</td>\n",
       "      <td>1309</td>\n",
       "      <td>13.8</td>\n",
       "      <td>549</td>\n",
       "    </tr>\n",
       "  </tbody>\n",
       "</table>\n",
       "<p>5 rows × 23 columns</p>\n",
       "</div>"
      ],
      "text/plain": [
       "   Platform Type  Placement - Day of Month  Placement - Weekday (Mo = 1)  \\\n",
       "0              3                         9                             5   \n",
       "1              3                        18                             5   \n",
       "2              3                        31                             5   \n",
       "3              3                         2                             2   \n",
       "4              2                        22                             2   \n",
       "\n",
       "   Confirmation - Day of Month  Confirmation - Weekday (Mo = 1)  \\\n",
       "0                            9                                5   \n",
       "1                           18                                5   \n",
       "2                           31                                5   \n",
       "3                            2                                2   \n",
       "4                           22                                2   \n",
       "\n",
       "   Arrival at Pickup - Day of Month  Arrival at Pickup - Weekday (Mo = 1)  \\\n",
       "0                                 9                                     5   \n",
       "1                                18                                     5   \n",
       "2                                31                                     5   \n",
       "3                                 2                                     2   \n",
       "4                                22                                     2   \n",
       "\n",
       "   Pickup - Day of Month  Pickup - Weekday (Mo = 1)  \\\n",
       "0                      9                          5   \n",
       "1                     18                          5   \n",
       "2                     31                          5   \n",
       "3                      2                          2   \n",
       "4                     22                          2   \n",
       "\n",
       "   Arrival at Destination - Day of Month  ...  Precipitation in millimeters  \\\n",
       "0                                      9  ...                           NaN   \n",
       "1                                     18  ...                           NaN   \n",
       "2                                     31  ...                           NaN   \n",
       "3                                      2  ...                           NaN   \n",
       "4                                     22  ...                           NaN   \n",
       "\n",
       "   Pickup Lat  Pickup Long  Destination Lat  Destination Long  \\\n",
       "0   -1.317755    36.830370        -1.300406         36.829741   \n",
       "1   -1.326774    36.787807        -1.356237         36.904295   \n",
       "2   -1.255189    36.782203        -1.273412         36.818206   \n",
       "3   -1.290315    36.757377        -1.223520         36.802061   \n",
       "4   -1.273524    36.799220        -1.300431         36.752427   \n",
       "\n",
       "   Time from Pickup to Arrival  No_Of_Orders   Age  Average_Rating  \\\n",
       "0                          745          1637  1309            13.8   \n",
       "1                         2886          1637  1309            13.8   \n",
       "2                         2615          1637  1309            13.8   \n",
       "3                         2986          1637  1309            13.8   \n",
       "4                         1602          1637  1309            13.8   \n",
       "\n",
       "   No_of_Ratings  \n",
       "0            549  \n",
       "1            549  \n",
       "2            549  \n",
       "3            549  \n",
       "4            549  \n",
       "\n",
       "[5 rows x 23 columns]"
      ]
     },
     "execution_count": 32,
     "metadata": {},
     "output_type": "execute_result"
    }
   ],
   "source": [
    "Numeric_Data=Complete_Dataset._get_numeric_data()\n",
    "Numeric_Data.head()"
   ]
  },
  {
   "cell_type": "code",
   "execution_count": 33,
   "metadata": {},
   "outputs": [
    {
     "data": {
      "text/html": [
       "<div>\n",
       "<style scoped>\n",
       "    .dataframe tbody tr th:only-of-type {\n",
       "        vertical-align: middle;\n",
       "    }\n",
       "\n",
       "    .dataframe tbody tr th {\n",
       "        vertical-align: top;\n",
       "    }\n",
       "\n",
       "    .dataframe thead th {\n",
       "        text-align: right;\n",
       "    }\n",
       "</style>\n",
       "<table border=\"1\" class=\"dataframe\">\n",
       "  <thead>\n",
       "    <tr style=\"text-align: right;\">\n",
       "      <th></th>\n",
       "      <th>Platform Type</th>\n",
       "      <th>Placement - Day of Month</th>\n",
       "      <th>Placement - Weekday (Mo = 1)</th>\n",
       "      <th>Confirmation - Day of Month</th>\n",
       "      <th>Confirmation - Weekday (Mo = 1)</th>\n",
       "      <th>Arrival at Pickup - Day of Month</th>\n",
       "      <th>Arrival at Pickup - Weekday (Mo = 1)</th>\n",
       "      <th>Pickup - Day of Month</th>\n",
       "      <th>Pickup - Weekday (Mo = 1)</th>\n",
       "      <th>Arrival at Destination - Day of Month</th>\n",
       "      <th>...</th>\n",
       "      <th>Precipitation in millimeters</th>\n",
       "      <th>Pickup Lat</th>\n",
       "      <th>Pickup Long</th>\n",
       "      <th>Destination Lat</th>\n",
       "      <th>Destination Long</th>\n",
       "      <th>Time from Pickup to Arrival</th>\n",
       "      <th>No_Of_Orders</th>\n",
       "      <th>Age</th>\n",
       "      <th>Average_Rating</th>\n",
       "      <th>No_of_Ratings</th>\n",
       "    </tr>\n",
       "  </thead>\n",
       "  <tbody>\n",
       "    <tr>\n",
       "      <th>Platform Type</th>\n",
       "      <td>1.000000</td>\n",
       "      <td>0.012764</td>\n",
       "      <td>-0.058038</td>\n",
       "      <td>0.012770</td>\n",
       "      <td>-0.058005</td>\n",
       "      <td>0.012770</td>\n",
       "      <td>-0.058005</td>\n",
       "      <td>0.012770</td>\n",
       "      <td>-0.058005</td>\n",
       "      <td>0.012770</td>\n",
       "      <td>...</td>\n",
       "      <td>-0.055948</td>\n",
       "      <td>-0.002742</td>\n",
       "      <td>0.021327</td>\n",
       "      <td>0.006319</td>\n",
       "      <td>0.043924</td>\n",
       "      <td>-0.003827</td>\n",
       "      <td>0.024060</td>\n",
       "      <td>-0.074029</td>\n",
       "      <td>-0.014664</td>\n",
       "      <td>-0.031886</td>\n",
       "    </tr>\n",
       "    <tr>\n",
       "      <th>Placement - Day of Month</th>\n",
       "      <td>0.012764</td>\n",
       "      <td>1.000000</td>\n",
       "      <td>0.026148</td>\n",
       "      <td>0.999998</td>\n",
       "      <td>0.026122</td>\n",
       "      <td>0.999998</td>\n",
       "      <td>0.026122</td>\n",
       "      <td>0.999998</td>\n",
       "      <td>0.026122</td>\n",
       "      <td>0.999998</td>\n",
       "      <td>...</td>\n",
       "      <td>-0.204143</td>\n",
       "      <td>-0.004929</td>\n",
       "      <td>-0.005453</td>\n",
       "      <td>0.007541</td>\n",
       "      <td>0.002077</td>\n",
       "      <td>-0.014710</td>\n",
       "      <td>0.008096</td>\n",
       "      <td>-0.000107</td>\n",
       "      <td>0.012790</td>\n",
       "      <td>-0.001709</td>\n",
       "    </tr>\n",
       "    <tr>\n",
       "      <th>Placement - Weekday (Mo = 1)</th>\n",
       "      <td>-0.058038</td>\n",
       "      <td>0.026148</td>\n",
       "      <td>1.000000</td>\n",
       "      <td>0.026132</td>\n",
       "      <td>0.999952</td>\n",
       "      <td>0.026132</td>\n",
       "      <td>0.999952</td>\n",
       "      <td>0.026132</td>\n",
       "      <td>0.999952</td>\n",
       "      <td>0.026132</td>\n",
       "      <td>...</td>\n",
       "      <td>-0.050592</td>\n",
       "      <td>-0.000918</td>\n",
       "      <td>0.011008</td>\n",
       "      <td>-0.004299</td>\n",
       "      <td>-0.000875</td>\n",
       "      <td>0.009693</td>\n",
       "      <td>-0.024226</td>\n",
       "      <td>-0.015475</td>\n",
       "      <td>-0.006834</td>\n",
       "      <td>-0.025747</td>\n",
       "    </tr>\n",
       "    <tr>\n",
       "      <th>Confirmation - Day of Month</th>\n",
       "      <td>0.012770</td>\n",
       "      <td>0.999998</td>\n",
       "      <td>0.026132</td>\n",
       "      <td>1.000000</td>\n",
       "      <td>0.026123</td>\n",
       "      <td>1.000000</td>\n",
       "      <td>0.026123</td>\n",
       "      <td>1.000000</td>\n",
       "      <td>0.026123</td>\n",
       "      <td>1.000000</td>\n",
       "      <td>...</td>\n",
       "      <td>-0.204143</td>\n",
       "      <td>-0.004923</td>\n",
       "      <td>-0.005448</td>\n",
       "      <td>0.007550</td>\n",
       "      <td>0.002073</td>\n",
       "      <td>-0.014701</td>\n",
       "      <td>0.008099</td>\n",
       "      <td>-0.000114</td>\n",
       "      <td>0.012796</td>\n",
       "      <td>-0.001712</td>\n",
       "    </tr>\n",
       "    <tr>\n",
       "      <th>Confirmation - Weekday (Mo = 1)</th>\n",
       "      <td>-0.058005</td>\n",
       "      <td>0.026122</td>\n",
       "      <td>0.999952</td>\n",
       "      <td>0.026123</td>\n",
       "      <td>1.000000</td>\n",
       "      <td>0.026123</td>\n",
       "      <td>1.000000</td>\n",
       "      <td>0.026123</td>\n",
       "      <td>1.000000</td>\n",
       "      <td>0.026123</td>\n",
       "      <td>...</td>\n",
       "      <td>-0.050592</td>\n",
       "      <td>-0.000883</td>\n",
       "      <td>0.011036</td>\n",
       "      <td>-0.004251</td>\n",
       "      <td>-0.000900</td>\n",
       "      <td>0.009744</td>\n",
       "      <td>-0.024205</td>\n",
       "      <td>-0.015514</td>\n",
       "      <td>-0.006803</td>\n",
       "      <td>-0.025768</td>\n",
       "    </tr>\n",
       "    <tr>\n",
       "      <th>Arrival at Pickup - Day of Month</th>\n",
       "      <td>0.012770</td>\n",
       "      <td>0.999998</td>\n",
       "      <td>0.026132</td>\n",
       "      <td>1.000000</td>\n",
       "      <td>0.026123</td>\n",
       "      <td>1.000000</td>\n",
       "      <td>0.026123</td>\n",
       "      <td>1.000000</td>\n",
       "      <td>0.026123</td>\n",
       "      <td>1.000000</td>\n",
       "      <td>...</td>\n",
       "      <td>-0.204143</td>\n",
       "      <td>-0.004923</td>\n",
       "      <td>-0.005448</td>\n",
       "      <td>0.007550</td>\n",
       "      <td>0.002073</td>\n",
       "      <td>-0.014701</td>\n",
       "      <td>0.008099</td>\n",
       "      <td>-0.000114</td>\n",
       "      <td>0.012796</td>\n",
       "      <td>-0.001712</td>\n",
       "    </tr>\n",
       "    <tr>\n",
       "      <th>Arrival at Pickup - Weekday (Mo = 1)</th>\n",
       "      <td>-0.058005</td>\n",
       "      <td>0.026122</td>\n",
       "      <td>0.999952</td>\n",
       "      <td>0.026123</td>\n",
       "      <td>1.000000</td>\n",
       "      <td>0.026123</td>\n",
       "      <td>1.000000</td>\n",
       "      <td>0.026123</td>\n",
       "      <td>1.000000</td>\n",
       "      <td>0.026123</td>\n",
       "      <td>...</td>\n",
       "      <td>-0.050592</td>\n",
       "      <td>-0.000883</td>\n",
       "      <td>0.011036</td>\n",
       "      <td>-0.004251</td>\n",
       "      <td>-0.000900</td>\n",
       "      <td>0.009744</td>\n",
       "      <td>-0.024205</td>\n",
       "      <td>-0.015514</td>\n",
       "      <td>-0.006803</td>\n",
       "      <td>-0.025768</td>\n",
       "    </tr>\n",
       "    <tr>\n",
       "      <th>Pickup - Day of Month</th>\n",
       "      <td>0.012770</td>\n",
       "      <td>0.999998</td>\n",
       "      <td>0.026132</td>\n",
       "      <td>1.000000</td>\n",
       "      <td>0.026123</td>\n",
       "      <td>1.000000</td>\n",
       "      <td>0.026123</td>\n",
       "      <td>1.000000</td>\n",
       "      <td>0.026123</td>\n",
       "      <td>1.000000</td>\n",
       "      <td>...</td>\n",
       "      <td>-0.204143</td>\n",
       "      <td>-0.004923</td>\n",
       "      <td>-0.005448</td>\n",
       "      <td>0.007550</td>\n",
       "      <td>0.002073</td>\n",
       "      <td>-0.014701</td>\n",
       "      <td>0.008099</td>\n",
       "      <td>-0.000114</td>\n",
       "      <td>0.012796</td>\n",
       "      <td>-0.001712</td>\n",
       "    </tr>\n",
       "    <tr>\n",
       "      <th>Pickup - Weekday (Mo = 1)</th>\n",
       "      <td>-0.058005</td>\n",
       "      <td>0.026122</td>\n",
       "      <td>0.999952</td>\n",
       "      <td>0.026123</td>\n",
       "      <td>1.000000</td>\n",
       "      <td>0.026123</td>\n",
       "      <td>1.000000</td>\n",
       "      <td>0.026123</td>\n",
       "      <td>1.000000</td>\n",
       "      <td>0.026123</td>\n",
       "      <td>...</td>\n",
       "      <td>-0.050592</td>\n",
       "      <td>-0.000883</td>\n",
       "      <td>0.011036</td>\n",
       "      <td>-0.004251</td>\n",
       "      <td>-0.000900</td>\n",
       "      <td>0.009744</td>\n",
       "      <td>-0.024205</td>\n",
       "      <td>-0.015514</td>\n",
       "      <td>-0.006803</td>\n",
       "      <td>-0.025768</td>\n",
       "    </tr>\n",
       "    <tr>\n",
       "      <th>Arrival at Destination - Day of Month</th>\n",
       "      <td>0.012770</td>\n",
       "      <td>0.999998</td>\n",
       "      <td>0.026132</td>\n",
       "      <td>1.000000</td>\n",
       "      <td>0.026123</td>\n",
       "      <td>1.000000</td>\n",
       "      <td>0.026123</td>\n",
       "      <td>1.000000</td>\n",
       "      <td>0.026123</td>\n",
       "      <td>1.000000</td>\n",
       "      <td>...</td>\n",
       "      <td>-0.204143</td>\n",
       "      <td>-0.004923</td>\n",
       "      <td>-0.005448</td>\n",
       "      <td>0.007550</td>\n",
       "      <td>0.002073</td>\n",
       "      <td>-0.014701</td>\n",
       "      <td>0.008099</td>\n",
       "      <td>-0.000114</td>\n",
       "      <td>0.012796</td>\n",
       "      <td>-0.001712</td>\n",
       "    </tr>\n",
       "    <tr>\n",
       "      <th>Arrival at Destination - Weekday (Mo = 1)</th>\n",
       "      <td>-0.058005</td>\n",
       "      <td>0.026122</td>\n",
       "      <td>0.999952</td>\n",
       "      <td>0.026123</td>\n",
       "      <td>1.000000</td>\n",
       "      <td>0.026123</td>\n",
       "      <td>1.000000</td>\n",
       "      <td>0.026123</td>\n",
       "      <td>1.000000</td>\n",
       "      <td>0.026123</td>\n",
       "      <td>...</td>\n",
       "      <td>-0.050592</td>\n",
       "      <td>-0.000883</td>\n",
       "      <td>0.011036</td>\n",
       "      <td>-0.004251</td>\n",
       "      <td>-0.000900</td>\n",
       "      <td>0.009744</td>\n",
       "      <td>-0.024205</td>\n",
       "      <td>-0.015514</td>\n",
       "      <td>-0.006803</td>\n",
       "      <td>-0.025768</td>\n",
       "    </tr>\n",
       "    <tr>\n",
       "      <th>Distance (KM)</th>\n",
       "      <td>0.005528</td>\n",
       "      <td>-0.007585</td>\n",
       "      <td>0.003582</td>\n",
       "      <td>-0.007587</td>\n",
       "      <td>0.003574</td>\n",
       "      <td>-0.007587</td>\n",
       "      <td>0.003574</td>\n",
       "      <td>-0.007587</td>\n",
       "      <td>0.003574</td>\n",
       "      <td>-0.007587</td>\n",
       "      <td>...</td>\n",
       "      <td>-0.036237</td>\n",
       "      <td>-0.124338</td>\n",
       "      <td>0.178537</td>\n",
       "      <td>-0.079366</td>\n",
       "      <td>0.135397</td>\n",
       "      <td>0.580608</td>\n",
       "      <td>0.037186</td>\n",
       "      <td>0.036239</td>\n",
       "      <td>-0.008200</td>\n",
       "      <td>0.051806</td>\n",
       "    </tr>\n",
       "    <tr>\n",
       "      <th>Temperature</th>\n",
       "      <td>0.225060</td>\n",
       "      <td>0.013097</td>\n",
       "      <td>0.031064</td>\n",
       "      <td>0.013099</td>\n",
       "      <td>0.031074</td>\n",
       "      <td>0.013099</td>\n",
       "      <td>0.031074</td>\n",
       "      <td>0.013099</td>\n",
       "      <td>0.031074</td>\n",
       "      <td>0.013099</td>\n",
       "      <td>...</td>\n",
       "      <td>-0.181327</td>\n",
       "      <td>0.017916</td>\n",
       "      <td>0.008746</td>\n",
       "      <td>0.010420</td>\n",
       "      <td>0.026297</td>\n",
       "      <td>0.006465</td>\n",
       "      <td>0.033419</td>\n",
       "      <td>-0.042714</td>\n",
       "      <td>-0.028930</td>\n",
       "      <td>-0.008199</td>\n",
       "    </tr>\n",
       "    <tr>\n",
       "      <th>Precipitation in millimeters</th>\n",
       "      <td>-0.055948</td>\n",
       "      <td>-0.204143</td>\n",
       "      <td>-0.050592</td>\n",
       "      <td>-0.204143</td>\n",
       "      <td>-0.050592</td>\n",
       "      <td>-0.204143</td>\n",
       "      <td>-0.050592</td>\n",
       "      <td>-0.204143</td>\n",
       "      <td>-0.050592</td>\n",
       "      <td>-0.204143</td>\n",
       "      <td>...</td>\n",
       "      <td>1.000000</td>\n",
       "      <td>-0.015388</td>\n",
       "      <td>-0.060514</td>\n",
       "      <td>0.009202</td>\n",
       "      <td>0.067936</td>\n",
       "      <td>0.024756</td>\n",
       "      <td>0.020521</td>\n",
       "      <td>-0.024504</td>\n",
       "      <td>-0.048303</td>\n",
       "      <td>0.020154</td>\n",
       "    </tr>\n",
       "    <tr>\n",
       "      <th>Pickup Lat</th>\n",
       "      <td>-0.002742</td>\n",
       "      <td>-0.004929</td>\n",
       "      <td>-0.000918</td>\n",
       "      <td>-0.004923</td>\n",
       "      <td>-0.000883</td>\n",
       "      <td>-0.004923</td>\n",
       "      <td>-0.000883</td>\n",
       "      <td>-0.004923</td>\n",
       "      <td>-0.000883</td>\n",
       "      <td>-0.004923</td>\n",
       "      <td>...</td>\n",
       "      <td>-0.015388</td>\n",
       "      <td>1.000000</td>\n",
       "      <td>-0.147629</td>\n",
       "      <td>0.114975</td>\n",
       "      <td>0.051399</td>\n",
       "      <td>-0.053823</td>\n",
       "      <td>-0.018190</td>\n",
       "      <td>0.002481</td>\n",
       "      <td>0.043610</td>\n",
       "      <td>0.019458</td>\n",
       "    </tr>\n",
       "    <tr>\n",
       "      <th>Pickup Long</th>\n",
       "      <td>0.021327</td>\n",
       "      <td>-0.005453</td>\n",
       "      <td>0.011008</td>\n",
       "      <td>-0.005448</td>\n",
       "      <td>0.011036</td>\n",
       "      <td>-0.005448</td>\n",
       "      <td>0.011036</td>\n",
       "      <td>-0.005448</td>\n",
       "      <td>0.011036</td>\n",
       "      <td>-0.005448</td>\n",
       "      <td>...</td>\n",
       "      <td>-0.060514</td>\n",
       "      <td>-0.147629</td>\n",
       "      <td>1.000000</td>\n",
       "      <td>0.014992</td>\n",
       "      <td>0.082803</td>\n",
       "      <td>0.060285</td>\n",
       "      <td>0.011274</td>\n",
       "      <td>-0.001656</td>\n",
       "      <td>-0.001885</td>\n",
       "      <td>0.002221</td>\n",
       "    </tr>\n",
       "    <tr>\n",
       "      <th>Destination Lat</th>\n",
       "      <td>0.006319</td>\n",
       "      <td>0.007541</td>\n",
       "      <td>-0.004299</td>\n",
       "      <td>0.007550</td>\n",
       "      <td>-0.004251</td>\n",
       "      <td>0.007550</td>\n",
       "      <td>-0.004251</td>\n",
       "      <td>0.007550</td>\n",
       "      <td>-0.004251</td>\n",
       "      <td>0.007550</td>\n",
       "      <td>...</td>\n",
       "      <td>0.009202</td>\n",
       "      <td>0.114975</td>\n",
       "      <td>0.014992</td>\n",
       "      <td>1.000000</td>\n",
       "      <td>0.046767</td>\n",
       "      <td>-0.061872</td>\n",
       "      <td>-0.001135</td>\n",
       "      <td>0.009552</td>\n",
       "      <td>0.030488</td>\n",
       "      <td>0.015015</td>\n",
       "    </tr>\n",
       "    <tr>\n",
       "      <th>Destination Long</th>\n",
       "      <td>0.043924</td>\n",
       "      <td>0.002077</td>\n",
       "      <td>-0.000875</td>\n",
       "      <td>0.002073</td>\n",
       "      <td>-0.000900</td>\n",
       "      <td>0.002073</td>\n",
       "      <td>-0.000900</td>\n",
       "      <td>0.002073</td>\n",
       "      <td>-0.000900</td>\n",
       "      <td>0.002073</td>\n",
       "      <td>...</td>\n",
       "      <td>0.067936</td>\n",
       "      <td>0.051399</td>\n",
       "      <td>0.082803</td>\n",
       "      <td>0.046767</td>\n",
       "      <td>1.000000</td>\n",
       "      <td>0.070425</td>\n",
       "      <td>-0.013809</td>\n",
       "      <td>-0.018235</td>\n",
       "      <td>0.002017</td>\n",
       "      <td>-0.002748</td>\n",
       "    </tr>\n",
       "    <tr>\n",
       "      <th>Time from Pickup to Arrival</th>\n",
       "      <td>-0.003827</td>\n",
       "      <td>-0.014710</td>\n",
       "      <td>0.009693</td>\n",
       "      <td>-0.014701</td>\n",
       "      <td>0.009744</td>\n",
       "      <td>-0.014701</td>\n",
       "      <td>0.009744</td>\n",
       "      <td>-0.014701</td>\n",
       "      <td>0.009744</td>\n",
       "      <td>-0.014701</td>\n",
       "      <td>...</td>\n",
       "      <td>0.024756</td>\n",
       "      <td>-0.053823</td>\n",
       "      <td>0.060285</td>\n",
       "      <td>-0.061872</td>\n",
       "      <td>0.070425</td>\n",
       "      <td>1.000000</td>\n",
       "      <td>-0.041608</td>\n",
       "      <td>-0.007969</td>\n",
       "      <td>-0.042559</td>\n",
       "      <td>0.005609</td>\n",
       "    </tr>\n",
       "    <tr>\n",
       "      <th>No_Of_Orders</th>\n",
       "      <td>0.024060</td>\n",
       "      <td>0.008096</td>\n",
       "      <td>-0.024226</td>\n",
       "      <td>0.008099</td>\n",
       "      <td>-0.024205</td>\n",
       "      <td>0.008099</td>\n",
       "      <td>-0.024205</td>\n",
       "      <td>0.008099</td>\n",
       "      <td>-0.024205</td>\n",
       "      <td>0.008099</td>\n",
       "      <td>...</td>\n",
       "      <td>0.020521</td>\n",
       "      <td>-0.018190</td>\n",
       "      <td>0.011274</td>\n",
       "      <td>-0.001135</td>\n",
       "      <td>-0.013809</td>\n",
       "      <td>-0.041608</td>\n",
       "      <td>1.000000</td>\n",
       "      <td>0.669036</td>\n",
       "      <td>0.051375</td>\n",
       "      <td>0.857918</td>\n",
       "    </tr>\n",
       "    <tr>\n",
       "      <th>Age</th>\n",
       "      <td>-0.074029</td>\n",
       "      <td>-0.000107</td>\n",
       "      <td>-0.015475</td>\n",
       "      <td>-0.000114</td>\n",
       "      <td>-0.015514</td>\n",
       "      <td>-0.000114</td>\n",
       "      <td>-0.015514</td>\n",
       "      <td>-0.000114</td>\n",
       "      <td>-0.015514</td>\n",
       "      <td>-0.000114</td>\n",
       "      <td>...</td>\n",
       "      <td>-0.024504</td>\n",
       "      <td>0.002481</td>\n",
       "      <td>-0.001656</td>\n",
       "      <td>0.009552</td>\n",
       "      <td>-0.018235</td>\n",
       "      <td>-0.007969</td>\n",
       "      <td>0.669036</td>\n",
       "      <td>1.000000</td>\n",
       "      <td>-0.014348</td>\n",
       "      <td>0.651090</td>\n",
       "    </tr>\n",
       "    <tr>\n",
       "      <th>Average_Rating</th>\n",
       "      <td>-0.014664</td>\n",
       "      <td>0.012790</td>\n",
       "      <td>-0.006834</td>\n",
       "      <td>0.012796</td>\n",
       "      <td>-0.006803</td>\n",
       "      <td>0.012796</td>\n",
       "      <td>-0.006803</td>\n",
       "      <td>0.012796</td>\n",
       "      <td>-0.006803</td>\n",
       "      <td>0.012796</td>\n",
       "      <td>...</td>\n",
       "      <td>-0.048303</td>\n",
       "      <td>0.043610</td>\n",
       "      <td>-0.001885</td>\n",
       "      <td>0.030488</td>\n",
       "      <td>0.002017</td>\n",
       "      <td>-0.042559</td>\n",
       "      <td>0.051375</td>\n",
       "      <td>-0.014348</td>\n",
       "      <td>1.000000</td>\n",
       "      <td>0.073856</td>\n",
       "    </tr>\n",
       "    <tr>\n",
       "      <th>No_of_Ratings</th>\n",
       "      <td>-0.031886</td>\n",
       "      <td>-0.001709</td>\n",
       "      <td>-0.025747</td>\n",
       "      <td>-0.001712</td>\n",
       "      <td>-0.025768</td>\n",
       "      <td>-0.001712</td>\n",
       "      <td>-0.025768</td>\n",
       "      <td>-0.001712</td>\n",
       "      <td>-0.025768</td>\n",
       "      <td>-0.001712</td>\n",
       "      <td>...</td>\n",
       "      <td>0.020154</td>\n",
       "      <td>0.019458</td>\n",
       "      <td>0.002221</td>\n",
       "      <td>0.015015</td>\n",
       "      <td>-0.002748</td>\n",
       "      <td>0.005609</td>\n",
       "      <td>0.857918</td>\n",
       "      <td>0.651090</td>\n",
       "      <td>0.073856</td>\n",
       "      <td>1.000000</td>\n",
       "    </tr>\n",
       "  </tbody>\n",
       "</table>\n",
       "<p>23 rows × 23 columns</p>\n",
       "</div>"
      ],
      "text/plain": [
       "                                           Platform Type  \\\n",
       "Platform Type                                   1.000000   \n",
       "Placement - Day of Month                        0.012764   \n",
       "Placement - Weekday (Mo = 1)                   -0.058038   \n",
       "Confirmation - Day of Month                     0.012770   \n",
       "Confirmation - Weekday (Mo = 1)                -0.058005   \n",
       "Arrival at Pickup - Day of Month                0.012770   \n",
       "Arrival at Pickup - Weekday (Mo = 1)           -0.058005   \n",
       "Pickup - Day of Month                           0.012770   \n",
       "Pickup - Weekday (Mo = 1)                      -0.058005   \n",
       "Arrival at Destination - Day of Month           0.012770   \n",
       "Arrival at Destination - Weekday (Mo = 1)      -0.058005   \n",
       "Distance (KM)                                   0.005528   \n",
       "Temperature                                     0.225060   \n",
       "Precipitation in millimeters                   -0.055948   \n",
       "Pickup Lat                                     -0.002742   \n",
       "Pickup Long                                     0.021327   \n",
       "Destination Lat                                 0.006319   \n",
       "Destination Long                                0.043924   \n",
       "Time from Pickup to Arrival                    -0.003827   \n",
       "No_Of_Orders                                    0.024060   \n",
       "Age                                            -0.074029   \n",
       "Average_Rating                                 -0.014664   \n",
       "No_of_Ratings                                  -0.031886   \n",
       "\n",
       "                                           Placement - Day of Month  \\\n",
       "Platform Type                                              0.012764   \n",
       "Placement - Day of Month                                   1.000000   \n",
       "Placement - Weekday (Mo = 1)                               0.026148   \n",
       "Confirmation - Day of Month                                0.999998   \n",
       "Confirmation - Weekday (Mo = 1)                            0.026122   \n",
       "Arrival at Pickup - Day of Month                           0.999998   \n",
       "Arrival at Pickup - Weekday (Mo = 1)                       0.026122   \n",
       "Pickup - Day of Month                                      0.999998   \n",
       "Pickup - Weekday (Mo = 1)                                  0.026122   \n",
       "Arrival at Destination - Day of Month                      0.999998   \n",
       "Arrival at Destination - Weekday (Mo = 1)                  0.026122   \n",
       "Distance (KM)                                             -0.007585   \n",
       "Temperature                                                0.013097   \n",
       "Precipitation in millimeters                              -0.204143   \n",
       "Pickup Lat                                                -0.004929   \n",
       "Pickup Long                                               -0.005453   \n",
       "Destination Lat                                            0.007541   \n",
       "Destination Long                                           0.002077   \n",
       "Time from Pickup to Arrival                               -0.014710   \n",
       "No_Of_Orders                                               0.008096   \n",
       "Age                                                       -0.000107   \n",
       "Average_Rating                                             0.012790   \n",
       "No_of_Ratings                                             -0.001709   \n",
       "\n",
       "                                           Placement - Weekday (Mo = 1)  \\\n",
       "Platform Type                                                 -0.058038   \n",
       "Placement - Day of Month                                       0.026148   \n",
       "Placement - Weekday (Mo = 1)                                   1.000000   \n",
       "Confirmation - Day of Month                                    0.026132   \n",
       "Confirmation - Weekday (Mo = 1)                                0.999952   \n",
       "Arrival at Pickup - Day of Month                               0.026132   \n",
       "Arrival at Pickup - Weekday (Mo = 1)                           0.999952   \n",
       "Pickup - Day of Month                                          0.026132   \n",
       "Pickup - Weekday (Mo = 1)                                      0.999952   \n",
       "Arrival at Destination - Day of Month                          0.026132   \n",
       "Arrival at Destination - Weekday (Mo = 1)                      0.999952   \n",
       "Distance (KM)                                                  0.003582   \n",
       "Temperature                                                    0.031064   \n",
       "Precipitation in millimeters                                  -0.050592   \n",
       "Pickup Lat                                                    -0.000918   \n",
       "Pickup Long                                                    0.011008   \n",
       "Destination Lat                                               -0.004299   \n",
       "Destination Long                                              -0.000875   \n",
       "Time from Pickup to Arrival                                    0.009693   \n",
       "No_Of_Orders                                                  -0.024226   \n",
       "Age                                                           -0.015475   \n",
       "Average_Rating                                                -0.006834   \n",
       "No_of_Ratings                                                 -0.025747   \n",
       "\n",
       "                                           Confirmation - Day of Month  \\\n",
       "Platform Type                                                 0.012770   \n",
       "Placement - Day of Month                                      0.999998   \n",
       "Placement - Weekday (Mo = 1)                                  0.026132   \n",
       "Confirmation - Day of Month                                   1.000000   \n",
       "Confirmation - Weekday (Mo = 1)                               0.026123   \n",
       "Arrival at Pickup - Day of Month                              1.000000   \n",
       "Arrival at Pickup - Weekday (Mo = 1)                          0.026123   \n",
       "Pickup - Day of Month                                         1.000000   \n",
       "Pickup - Weekday (Mo = 1)                                     0.026123   \n",
       "Arrival at Destination - Day of Month                         1.000000   \n",
       "Arrival at Destination - Weekday (Mo = 1)                     0.026123   \n",
       "Distance (KM)                                                -0.007587   \n",
       "Temperature                                                   0.013099   \n",
       "Precipitation in millimeters                                 -0.204143   \n",
       "Pickup Lat                                                   -0.004923   \n",
       "Pickup Long                                                  -0.005448   \n",
       "Destination Lat                                               0.007550   \n",
       "Destination Long                                              0.002073   \n",
       "Time from Pickup to Arrival                                  -0.014701   \n",
       "No_Of_Orders                                                  0.008099   \n",
       "Age                                                          -0.000114   \n",
       "Average_Rating                                                0.012796   \n",
       "No_of_Ratings                                                -0.001712   \n",
       "\n",
       "                                           Confirmation - Weekday (Mo = 1)  \\\n",
       "Platform Type                                                    -0.058005   \n",
       "Placement - Day of Month                                          0.026122   \n",
       "Placement - Weekday (Mo = 1)                                      0.999952   \n",
       "Confirmation - Day of Month                                       0.026123   \n",
       "Confirmation - Weekday (Mo = 1)                                   1.000000   \n",
       "Arrival at Pickup - Day of Month                                  0.026123   \n",
       "Arrival at Pickup - Weekday (Mo = 1)                              1.000000   \n",
       "Pickup - Day of Month                                             0.026123   \n",
       "Pickup - Weekday (Mo = 1)                                         1.000000   \n",
       "Arrival at Destination - Day of Month                             0.026123   \n",
       "Arrival at Destination - Weekday (Mo = 1)                         1.000000   \n",
       "Distance (KM)                                                     0.003574   \n",
       "Temperature                                                       0.031074   \n",
       "Precipitation in millimeters                                     -0.050592   \n",
       "Pickup Lat                                                       -0.000883   \n",
       "Pickup Long                                                       0.011036   \n",
       "Destination Lat                                                  -0.004251   \n",
       "Destination Long                                                 -0.000900   \n",
       "Time from Pickup to Arrival                                       0.009744   \n",
       "No_Of_Orders                                                     -0.024205   \n",
       "Age                                                              -0.015514   \n",
       "Average_Rating                                                   -0.006803   \n",
       "No_of_Ratings                                                    -0.025768   \n",
       "\n",
       "                                           Arrival at Pickup - Day of Month  \\\n",
       "Platform Type                                                      0.012770   \n",
       "Placement - Day of Month                                           0.999998   \n",
       "Placement - Weekday (Mo = 1)                                       0.026132   \n",
       "Confirmation - Day of Month                                        1.000000   \n",
       "Confirmation - Weekday (Mo = 1)                                    0.026123   \n",
       "Arrival at Pickup - Day of Month                                   1.000000   \n",
       "Arrival at Pickup - Weekday (Mo = 1)                               0.026123   \n",
       "Pickup - Day of Month                                              1.000000   \n",
       "Pickup - Weekday (Mo = 1)                                          0.026123   \n",
       "Arrival at Destination - Day of Month                              1.000000   \n",
       "Arrival at Destination - Weekday (Mo = 1)                          0.026123   \n",
       "Distance (KM)                                                     -0.007587   \n",
       "Temperature                                                        0.013099   \n",
       "Precipitation in millimeters                                      -0.204143   \n",
       "Pickup Lat                                                        -0.004923   \n",
       "Pickup Long                                                       -0.005448   \n",
       "Destination Lat                                                    0.007550   \n",
       "Destination Long                                                   0.002073   \n",
       "Time from Pickup to Arrival                                       -0.014701   \n",
       "No_Of_Orders                                                       0.008099   \n",
       "Age                                                               -0.000114   \n",
       "Average_Rating                                                     0.012796   \n",
       "No_of_Ratings                                                     -0.001712   \n",
       "\n",
       "                                           Arrival at Pickup - Weekday (Mo = 1)  \\\n",
       "Platform Type                                                         -0.058005   \n",
       "Placement - Day of Month                                               0.026122   \n",
       "Placement - Weekday (Mo = 1)                                           0.999952   \n",
       "Confirmation - Day of Month                                            0.026123   \n",
       "Confirmation - Weekday (Mo = 1)                                        1.000000   \n",
       "Arrival at Pickup - Day of Month                                       0.026123   \n",
       "Arrival at Pickup - Weekday (Mo = 1)                                   1.000000   \n",
       "Pickup - Day of Month                                                  0.026123   \n",
       "Pickup - Weekday (Mo = 1)                                              1.000000   \n",
       "Arrival at Destination - Day of Month                                  0.026123   \n",
       "Arrival at Destination - Weekday (Mo = 1)                              1.000000   \n",
       "Distance (KM)                                                          0.003574   \n",
       "Temperature                                                            0.031074   \n",
       "Precipitation in millimeters                                          -0.050592   \n",
       "Pickup Lat                                                            -0.000883   \n",
       "Pickup Long                                                            0.011036   \n",
       "Destination Lat                                                       -0.004251   \n",
       "Destination Long                                                      -0.000900   \n",
       "Time from Pickup to Arrival                                            0.009744   \n",
       "No_Of_Orders                                                          -0.024205   \n",
       "Age                                                                   -0.015514   \n",
       "Average_Rating                                                        -0.006803   \n",
       "No_of_Ratings                                                         -0.025768   \n",
       "\n",
       "                                           Pickup - Day of Month  \\\n",
       "Platform Type                                           0.012770   \n",
       "Placement - Day of Month                                0.999998   \n",
       "Placement - Weekday (Mo = 1)                            0.026132   \n",
       "Confirmation - Day of Month                             1.000000   \n",
       "Confirmation - Weekday (Mo = 1)                         0.026123   \n",
       "Arrival at Pickup - Day of Month                        1.000000   \n",
       "Arrival at Pickup - Weekday (Mo = 1)                    0.026123   \n",
       "Pickup - Day of Month                                   1.000000   \n",
       "Pickup - Weekday (Mo = 1)                               0.026123   \n",
       "Arrival at Destination - Day of Month                   1.000000   \n",
       "Arrival at Destination - Weekday (Mo = 1)               0.026123   \n",
       "Distance (KM)                                          -0.007587   \n",
       "Temperature                                             0.013099   \n",
       "Precipitation in millimeters                           -0.204143   \n",
       "Pickup Lat                                             -0.004923   \n",
       "Pickup Long                                            -0.005448   \n",
       "Destination Lat                                         0.007550   \n",
       "Destination Long                                        0.002073   \n",
       "Time from Pickup to Arrival                            -0.014701   \n",
       "No_Of_Orders                                            0.008099   \n",
       "Age                                                    -0.000114   \n",
       "Average_Rating                                          0.012796   \n",
       "No_of_Ratings                                          -0.001712   \n",
       "\n",
       "                                           Pickup - Weekday (Mo = 1)  \\\n",
       "Platform Type                                              -0.058005   \n",
       "Placement - Day of Month                                    0.026122   \n",
       "Placement - Weekday (Mo = 1)                                0.999952   \n",
       "Confirmation - Day of Month                                 0.026123   \n",
       "Confirmation - Weekday (Mo = 1)                             1.000000   \n",
       "Arrival at Pickup - Day of Month                            0.026123   \n",
       "Arrival at Pickup - Weekday (Mo = 1)                        1.000000   \n",
       "Pickup - Day of Month                                       0.026123   \n",
       "Pickup - Weekday (Mo = 1)                                   1.000000   \n",
       "Arrival at Destination - Day of Month                       0.026123   \n",
       "Arrival at Destination - Weekday (Mo = 1)                   1.000000   \n",
       "Distance (KM)                                               0.003574   \n",
       "Temperature                                                 0.031074   \n",
       "Precipitation in millimeters                               -0.050592   \n",
       "Pickup Lat                                                 -0.000883   \n",
       "Pickup Long                                                 0.011036   \n",
       "Destination Lat                                            -0.004251   \n",
       "Destination Long                                           -0.000900   \n",
       "Time from Pickup to Arrival                                 0.009744   \n",
       "No_Of_Orders                                               -0.024205   \n",
       "Age                                                        -0.015514   \n",
       "Average_Rating                                             -0.006803   \n",
       "No_of_Ratings                                              -0.025768   \n",
       "\n",
       "                                           Arrival at Destination - Day of Month  \\\n",
       "Platform Type                                                           0.012770   \n",
       "Placement - Day of Month                                                0.999998   \n",
       "Placement - Weekday (Mo = 1)                                            0.026132   \n",
       "Confirmation - Day of Month                                             1.000000   \n",
       "Confirmation - Weekday (Mo = 1)                                         0.026123   \n",
       "Arrival at Pickup - Day of Month                                        1.000000   \n",
       "Arrival at Pickup - Weekday (Mo = 1)                                    0.026123   \n",
       "Pickup - Day of Month                                                   1.000000   \n",
       "Pickup - Weekday (Mo = 1)                                               0.026123   \n",
       "Arrival at Destination - Day of Month                                   1.000000   \n",
       "Arrival at Destination - Weekday (Mo = 1)                               0.026123   \n",
       "Distance (KM)                                                          -0.007587   \n",
       "Temperature                                                             0.013099   \n",
       "Precipitation in millimeters                                           -0.204143   \n",
       "Pickup Lat                                                             -0.004923   \n",
       "Pickup Long                                                            -0.005448   \n",
       "Destination Lat                                                         0.007550   \n",
       "Destination Long                                                        0.002073   \n",
       "Time from Pickup to Arrival                                            -0.014701   \n",
       "No_Of_Orders                                                            0.008099   \n",
       "Age                                                                    -0.000114   \n",
       "Average_Rating                                                          0.012796   \n",
       "No_of_Ratings                                                          -0.001712   \n",
       "\n",
       "                                           ...  Precipitation in millimeters  \\\n",
       "Platform Type                              ...                     -0.055948   \n",
       "Placement - Day of Month                   ...                     -0.204143   \n",
       "Placement - Weekday (Mo = 1)               ...                     -0.050592   \n",
       "Confirmation - Day of Month                ...                     -0.204143   \n",
       "Confirmation - Weekday (Mo = 1)            ...                     -0.050592   \n",
       "Arrival at Pickup - Day of Month           ...                     -0.204143   \n",
       "Arrival at Pickup - Weekday (Mo = 1)       ...                     -0.050592   \n",
       "Pickup - Day of Month                      ...                     -0.204143   \n",
       "Pickup - Weekday (Mo = 1)                  ...                     -0.050592   \n",
       "Arrival at Destination - Day of Month      ...                     -0.204143   \n",
       "Arrival at Destination - Weekday (Mo = 1)  ...                     -0.050592   \n",
       "Distance (KM)                              ...                     -0.036237   \n",
       "Temperature                                ...                     -0.181327   \n",
       "Precipitation in millimeters               ...                      1.000000   \n",
       "Pickup Lat                                 ...                     -0.015388   \n",
       "Pickup Long                                ...                     -0.060514   \n",
       "Destination Lat                            ...                      0.009202   \n",
       "Destination Long                           ...                      0.067936   \n",
       "Time from Pickup to Arrival                ...                      0.024756   \n",
       "No_Of_Orders                               ...                      0.020521   \n",
       "Age                                        ...                     -0.024504   \n",
       "Average_Rating                             ...                     -0.048303   \n",
       "No_of_Ratings                              ...                      0.020154   \n",
       "\n",
       "                                           Pickup Lat  Pickup Long  \\\n",
       "Platform Type                               -0.002742     0.021327   \n",
       "Placement - Day of Month                    -0.004929    -0.005453   \n",
       "Placement - Weekday (Mo = 1)                -0.000918     0.011008   \n",
       "Confirmation - Day of Month                 -0.004923    -0.005448   \n",
       "Confirmation - Weekday (Mo = 1)             -0.000883     0.011036   \n",
       "Arrival at Pickup - Day of Month            -0.004923    -0.005448   \n",
       "Arrival at Pickup - Weekday (Mo = 1)        -0.000883     0.011036   \n",
       "Pickup - Day of Month                       -0.004923    -0.005448   \n",
       "Pickup - Weekday (Mo = 1)                   -0.000883     0.011036   \n",
       "Arrival at Destination - Day of Month       -0.004923    -0.005448   \n",
       "Arrival at Destination - Weekday (Mo = 1)   -0.000883     0.011036   \n",
       "Distance (KM)                               -0.124338     0.178537   \n",
       "Temperature                                  0.017916     0.008746   \n",
       "Precipitation in millimeters                -0.015388    -0.060514   \n",
       "Pickup Lat                                   1.000000    -0.147629   \n",
       "Pickup Long                                 -0.147629     1.000000   \n",
       "Destination Lat                              0.114975     0.014992   \n",
       "Destination Long                             0.051399     0.082803   \n",
       "Time from Pickup to Arrival                 -0.053823     0.060285   \n",
       "No_Of_Orders                                -0.018190     0.011274   \n",
       "Age                                          0.002481    -0.001656   \n",
       "Average_Rating                               0.043610    -0.001885   \n",
       "No_of_Ratings                                0.019458     0.002221   \n",
       "\n",
       "                                           Destination Lat  Destination Long  \\\n",
       "Platform Type                                     0.006319          0.043924   \n",
       "Placement - Day of Month                          0.007541          0.002077   \n",
       "Placement - Weekday (Mo = 1)                     -0.004299         -0.000875   \n",
       "Confirmation - Day of Month                       0.007550          0.002073   \n",
       "Confirmation - Weekday (Mo = 1)                  -0.004251         -0.000900   \n",
       "Arrival at Pickup - Day of Month                  0.007550          0.002073   \n",
       "Arrival at Pickup - Weekday (Mo = 1)             -0.004251         -0.000900   \n",
       "Pickup - Day of Month                             0.007550          0.002073   \n",
       "Pickup - Weekday (Mo = 1)                        -0.004251         -0.000900   \n",
       "Arrival at Destination - Day of Month             0.007550          0.002073   \n",
       "Arrival at Destination - Weekday (Mo = 1)        -0.004251         -0.000900   \n",
       "Distance (KM)                                    -0.079366          0.135397   \n",
       "Temperature                                       0.010420          0.026297   \n",
       "Precipitation in millimeters                      0.009202          0.067936   \n",
       "Pickup Lat                                        0.114975          0.051399   \n",
       "Pickup Long                                       0.014992          0.082803   \n",
       "Destination Lat                                   1.000000          0.046767   \n",
       "Destination Long                                  0.046767          1.000000   \n",
       "Time from Pickup to Arrival                      -0.061872          0.070425   \n",
       "No_Of_Orders                                     -0.001135         -0.013809   \n",
       "Age                                               0.009552         -0.018235   \n",
       "Average_Rating                                    0.030488          0.002017   \n",
       "No_of_Ratings                                     0.015015         -0.002748   \n",
       "\n",
       "                                           Time from Pickup to Arrival  \\\n",
       "Platform Type                                                -0.003827   \n",
       "Placement - Day of Month                                     -0.014710   \n",
       "Placement - Weekday (Mo = 1)                                  0.009693   \n",
       "Confirmation - Day of Month                                  -0.014701   \n",
       "Confirmation - Weekday (Mo = 1)                               0.009744   \n",
       "Arrival at Pickup - Day of Month                             -0.014701   \n",
       "Arrival at Pickup - Weekday (Mo = 1)                          0.009744   \n",
       "Pickup - Day of Month                                        -0.014701   \n",
       "Pickup - Weekday (Mo = 1)                                     0.009744   \n",
       "Arrival at Destination - Day of Month                        -0.014701   \n",
       "Arrival at Destination - Weekday (Mo = 1)                     0.009744   \n",
       "Distance (KM)                                                 0.580608   \n",
       "Temperature                                                   0.006465   \n",
       "Precipitation in millimeters                                  0.024756   \n",
       "Pickup Lat                                                   -0.053823   \n",
       "Pickup Long                                                   0.060285   \n",
       "Destination Lat                                              -0.061872   \n",
       "Destination Long                                              0.070425   \n",
       "Time from Pickup to Arrival                                   1.000000   \n",
       "No_Of_Orders                                                 -0.041608   \n",
       "Age                                                          -0.007969   \n",
       "Average_Rating                                               -0.042559   \n",
       "No_of_Ratings                                                 0.005609   \n",
       "\n",
       "                                           No_Of_Orders       Age  \\\n",
       "Platform Type                                  0.024060 -0.074029   \n",
       "Placement - Day of Month                       0.008096 -0.000107   \n",
       "Placement - Weekday (Mo = 1)                  -0.024226 -0.015475   \n",
       "Confirmation - Day of Month                    0.008099 -0.000114   \n",
       "Confirmation - Weekday (Mo = 1)               -0.024205 -0.015514   \n",
       "Arrival at Pickup - Day of Month               0.008099 -0.000114   \n",
       "Arrival at Pickup - Weekday (Mo = 1)          -0.024205 -0.015514   \n",
       "Pickup - Day of Month                          0.008099 -0.000114   \n",
       "Pickup - Weekday (Mo = 1)                     -0.024205 -0.015514   \n",
       "Arrival at Destination - Day of Month          0.008099 -0.000114   \n",
       "Arrival at Destination - Weekday (Mo = 1)     -0.024205 -0.015514   \n",
       "Distance (KM)                                  0.037186  0.036239   \n",
       "Temperature                                    0.033419 -0.042714   \n",
       "Precipitation in millimeters                   0.020521 -0.024504   \n",
       "Pickup Lat                                    -0.018190  0.002481   \n",
       "Pickup Long                                    0.011274 -0.001656   \n",
       "Destination Lat                               -0.001135  0.009552   \n",
       "Destination Long                              -0.013809 -0.018235   \n",
       "Time from Pickup to Arrival                   -0.041608 -0.007969   \n",
       "No_Of_Orders                                   1.000000  0.669036   \n",
       "Age                                            0.669036  1.000000   \n",
       "Average_Rating                                 0.051375 -0.014348   \n",
       "No_of_Ratings                                  0.857918  0.651090   \n",
       "\n",
       "                                           Average_Rating  No_of_Ratings  \n",
       "Platform Type                                   -0.014664      -0.031886  \n",
       "Placement - Day of Month                         0.012790      -0.001709  \n",
       "Placement - Weekday (Mo = 1)                    -0.006834      -0.025747  \n",
       "Confirmation - Day of Month                      0.012796      -0.001712  \n",
       "Confirmation - Weekday (Mo = 1)                 -0.006803      -0.025768  \n",
       "Arrival at Pickup - Day of Month                 0.012796      -0.001712  \n",
       "Arrival at Pickup - Weekday (Mo = 1)            -0.006803      -0.025768  \n",
       "Pickup - Day of Month                            0.012796      -0.001712  \n",
       "Pickup - Weekday (Mo = 1)                       -0.006803      -0.025768  \n",
       "Arrival at Destination - Day of Month            0.012796      -0.001712  \n",
       "Arrival at Destination - Weekday (Mo = 1)       -0.006803      -0.025768  \n",
       "Distance (KM)                                   -0.008200       0.051806  \n",
       "Temperature                                     -0.028930      -0.008199  \n",
       "Precipitation in millimeters                    -0.048303       0.020154  \n",
       "Pickup Lat                                       0.043610       0.019458  \n",
       "Pickup Long                                     -0.001885       0.002221  \n",
       "Destination Lat                                  0.030488       0.015015  \n",
       "Destination Long                                 0.002017      -0.002748  \n",
       "Time from Pickup to Arrival                     -0.042559       0.005609  \n",
       "No_Of_Orders                                     0.051375       0.857918  \n",
       "Age                                             -0.014348       0.651090  \n",
       "Average_Rating                                   1.000000       0.073856  \n",
       "No_of_Ratings                                    0.073856       1.000000  \n",
       "\n",
       "[23 rows x 23 columns]"
      ]
     },
     "execution_count": 33,
     "metadata": {},
     "output_type": "execute_result"
    }
   ],
   "source": [
    "Numeric_Data.corr()"
   ]
  },
  {
   "cell_type": "markdown",
   "metadata": {},
   "source": [
    "Plotting a heatmap to give a better presentation"
   ]
  },
  {
   "cell_type": "code",
   "execution_count": 34,
   "metadata": {},
   "outputs": [
    {
     "data": {
      "text/plain": [
       "Text(0.5, 1.05, 'Correlation Matrix')"
      ]
     },
     "execution_count": 34,
     "metadata": {},
     "output_type": "execute_result"
    },
    {
     "data": {
      "image/png": "[encoded data removed]",
      "text/plain": [
       "<Figure size 1368x1080 with 2 Axes>"
      ]
     },
     "metadata": {
      "needs_background": "light"
     },
     "output_type": "display_data"
    }
   ],
   "source": [
    "f=plt.figure(figsize=(19,15))\n",
    "plt.matshow(Numeric_Data.corr(), fignum=f.number)\n",
    "plt.xticks(range(Numeric_Data.shape[1]),Numeric_Data.columns,fontsize=14, rotation=90)\n",
    "plt.yticks(range(Numeric_Data.shape[1]),Numeric_Data.columns,fontsize=14)\n",
    "cb=plt.colorbar()\n",
    "cb.ax.tick_params(labelsize=14)\n",
    "plt.title('Correlation Matrix', fontsize=16)"
   ]
  },
  {
   "cell_type": "markdown",
   "metadata": {},
   "source": [
    "It can be seen that, placement weekday have a higher correlation with confirmation, pickup and arrival at pick up weekdays. This is same for day of month and time. Number of orders also has a high correlation with number of ratings."
   ]
  },
  {
   "cell_type": "markdown",
   "metadata": {},
   "source": [
    "#  "
   ]
  },
  {
   "cell_type": "markdown",
   "metadata": {},
   "source": [
    "## Plotting a boxplot for Temperature and Precipitation"
   ]
  },
  {
   "cell_type": "code",
   "execution_count": 35,
   "metadata": {},
   "outputs": [
    {
     "data": {
      "text/plain": [
       "<matplotlib.axes._subplots.AxesSubplot at 0x2c0e510e358>"
      ]
     },
     "execution_count": 35,
     "metadata": {},
     "output_type": "execute_result"
    },
    {
     "data": {
      "image/png": "[encoded data removed]",
      "text/plain": [
       "<Figure size 432x288 with 1 Axes>"
      ]
     },
     "metadata": {
      "needs_background": "light"
     },
     "output_type": "display_data"
    }
   ],
   "source": [
    "Numeric_Data.boxplot(column=['Temperature','Precipitation in millimeters'])"
   ]
  },
  {
   "cell_type": "markdown",
   "metadata": {},
   "source": [
    "Precipitation has a lot of outliers with a first quartile of zero and a median less than 10. Temperature has a median above 20 and an upper quartile a little above 30."
   ]
  },
  {
   "cell_type": "markdown",
   "metadata": {},
   "source": [
    "## KDE plot for age, Average_Rating and Arrival at Destination - Weekday "
   ]
  },
  {
   "cell_type": "code",
   "execution_count": 36,
   "metadata": {},
   "outputs": [
    {
     "data": {
      "text/plain": [
       "<matplotlib.axes._subplots.AxesSubplot at 0x2c0e58585f8>"
      ]
     },
     "execution_count": 36,
     "metadata": {},
     "output_type": "execute_result"
    },
    {
     "data": {
      "image/png": "[encoded data removed]",
      "text/plain": [
       "<Figure size 432x288 with 1 Axes>"
      ]
     },
     "metadata": {
      "needs_background": "light"
     },
     "output_type": "display_data"
    }
   ],
   "source": [
    "Numeric_Data.Age.plot.kde()"
   ]
  },
  {
   "cell_type": "code",
   "execution_count": 37,
   "metadata": {},
   "outputs": [
    {
     "data": {
      "text/plain": [
       "<matplotlib.axes._subplots.AxesSubplot at 0x2c0e58a76d8>"
      ]
     },
     "execution_count": 37,
     "metadata": {},
     "output_type": "execute_result"
    },
    {
     "data": {
      "image/png": "[encoded data removed]",
      "text/plain": [
       "<Figure size 432x288 with 1 Axes>"
      ]
     },
     "metadata": {
      "needs_background": "light"
     },
     "output_type": "display_data"
    }
   ],
   "source": [
    "Numeric_Data.Average_Rating.plot.kde()"
   ]
  },
  {
   "cell_type": "code",
   "execution_count": 38,
   "metadata": {},
   "outputs": [
    {
     "data": {
      "text/plain": [
       "<matplotlib.axes._subplots.AxesSubplot at 0x2c0e593e588>"
      ]
     },
     "execution_count": 38,
     "metadata": {},
     "output_type": "execute_result"
    },
    {
     "data": {
      "image/png": "[encoded data removed]",
      "text/plain": [
       "<Figure size 432x288 with 1 Axes>"
      ]
     },
     "metadata": {
      "needs_background": "light"
     },
     "output_type": "display_data"
    }
   ],
   "source": [
    "Numeric_Data['Arrival at Destination - Weekday (Mo = 1)'].plot.kde()"
   ]
  },
  {
   "cell_type": "markdown",
   "metadata": {},
   "source": [
    "#  "
   ]
  },
  {
   "cell_type": "markdown",
   "metadata": {},
   "source": [
    "## Summary Statistics for Features "
   ]
  },
  {
   "cell_type": "code",
   "execution_count": 39,
   "metadata": {},
   "outputs": [
    {
     "data": {
      "text/html": [
       "<div>\n",
       "<style scoped>\n",
       "    .dataframe tbody tr th:only-of-type {\n",
       "        vertical-align: middle;\n",
       "    }\n",
       "\n",
       "    .dataframe tbody tr th {\n",
       "        vertical-align: top;\n",
       "    }\n",
       "\n",
       "    .dataframe thead th {\n",
       "        text-align: right;\n",
       "    }\n",
       "</style>\n",
       "<table border=\"1\" class=\"dataframe\">\n",
       "  <thead>\n",
       "    <tr style=\"text-align: right;\">\n",
       "      <th></th>\n",
       "      <th>count</th>\n",
       "      <th>unique</th>\n",
       "      <th>top</th>\n",
       "      <th>freq</th>\n",
       "      <th>mean</th>\n",
       "      <th>std</th>\n",
       "      <th>min</th>\n",
       "      <th>25%</th>\n",
       "      <th>50%</th>\n",
       "      <th>75%</th>\n",
       "      <th>max</th>\n",
       "    </tr>\n",
       "  </thead>\n",
       "  <tbody>\n",
       "    <tr>\n",
       "      <th>Order No</th>\n",
       "      <td>21201</td>\n",
       "      <td>21201</td>\n",
       "      <td>Order_No_3140</td>\n",
       "      <td>1</td>\n",
       "      <td>NaN</td>\n",
       "      <td>NaN</td>\n",
       "      <td>NaN</td>\n",
       "      <td>NaN</td>\n",
       "      <td>NaN</td>\n",
       "      <td>NaN</td>\n",
       "      <td>NaN</td>\n",
       "    </tr>\n",
       "    <tr>\n",
       "      <th>User Id</th>\n",
       "      <td>21201</td>\n",
       "      <td>3186</td>\n",
       "      <td>User_Id_393</td>\n",
       "      <td>645</td>\n",
       "      <td>NaN</td>\n",
       "      <td>NaN</td>\n",
       "      <td>NaN</td>\n",
       "      <td>NaN</td>\n",
       "      <td>NaN</td>\n",
       "      <td>NaN</td>\n",
       "      <td>NaN</td>\n",
       "    </tr>\n",
       "    <tr>\n",
       "      <th>Vehicle Type</th>\n",
       "      <td>21201</td>\n",
       "      <td>1</td>\n",
       "      <td>Bike</td>\n",
       "      <td>21201</td>\n",
       "      <td>NaN</td>\n",
       "      <td>NaN</td>\n",
       "      <td>NaN</td>\n",
       "      <td>NaN</td>\n",
       "      <td>NaN</td>\n",
       "      <td>NaN</td>\n",
       "      <td>NaN</td>\n",
       "    </tr>\n",
       "    <tr>\n",
       "      <th>Platform Type</th>\n",
       "      <td>21201</td>\n",
       "      <td>NaN</td>\n",
       "      <td>NaN</td>\n",
       "      <td>NaN</td>\n",
       "      <td>2.75218</td>\n",
       "      <td>0.625178</td>\n",
       "      <td>1</td>\n",
       "      <td>3</td>\n",
       "      <td>3</td>\n",
       "      <td>3</td>\n",
       "      <td>4</td>\n",
       "    </tr>\n",
       "    <tr>\n",
       "      <th>Personal or Business</th>\n",
       "      <td>21201</td>\n",
       "      <td>2</td>\n",
       "      <td>Business</td>\n",
       "      <td>17384</td>\n",
       "      <td>NaN</td>\n",
       "      <td>NaN</td>\n",
       "      <td>NaN</td>\n",
       "      <td>NaN</td>\n",
       "      <td>NaN</td>\n",
       "      <td>NaN</td>\n",
       "      <td>NaN</td>\n",
       "    </tr>\n",
       "    <tr>\n",
       "      <th>Placement - Day of Month</th>\n",
       "      <td>21201</td>\n",
       "      <td>NaN</td>\n",
       "      <td>NaN</td>\n",
       "      <td>NaN</td>\n",
       "      <td>15.6537</td>\n",
       "      <td>8.79892</td>\n",
       "      <td>1</td>\n",
       "      <td>8</td>\n",
       "      <td>15</td>\n",
       "      <td>23</td>\n",
       "      <td>31</td>\n",
       "    </tr>\n",
       "    <tr>\n",
       "      <th>Placement - Weekday (Mo = 1)</th>\n",
       "      <td>21201</td>\n",
       "      <td>NaN</td>\n",
       "      <td>NaN</td>\n",
       "      <td>NaN</td>\n",
       "      <td>3.24008</td>\n",
       "      <td>1.5673</td>\n",
       "      <td>1</td>\n",
       "      <td>2</td>\n",
       "      <td>3</td>\n",
       "      <td>5</td>\n",
       "      <td>7</td>\n",
       "    </tr>\n",
       "    <tr>\n",
       "      <th>Placement - Time</th>\n",
       "      <td>21201</td>\n",
       "      <td>15686</td>\n",
       "      <td>2:57:22 PM</td>\n",
       "      <td>6</td>\n",
       "      <td>NaN</td>\n",
       "      <td>NaN</td>\n",
       "      <td>NaN</td>\n",
       "      <td>NaN</td>\n",
       "      <td>NaN</td>\n",
       "      <td>NaN</td>\n",
       "      <td>NaN</td>\n",
       "    </tr>\n",
       "    <tr>\n",
       "      <th>Confirmation - Day of Month</th>\n",
       "      <td>21201</td>\n",
       "      <td>NaN</td>\n",
       "      <td>NaN</td>\n",
       "      <td>NaN</td>\n",
       "      <td>15.6538</td>\n",
       "      <td>8.79889</td>\n",
       "      <td>1</td>\n",
       "      <td>8</td>\n",
       "      <td>15</td>\n",
       "      <td>23</td>\n",
       "      <td>31</td>\n",
       "    </tr>\n",
       "    <tr>\n",
       "      <th>Confirmation - Weekday (Mo = 1)</th>\n",
       "      <td>21201</td>\n",
       "      <td>NaN</td>\n",
       "      <td>NaN</td>\n",
       "      <td>NaN</td>\n",
       "      <td>3.24022</td>\n",
       "      <td>1.56723</td>\n",
       "      <td>1</td>\n",
       "      <td>2</td>\n",
       "      <td>3</td>\n",
       "      <td>5</td>\n",
       "      <td>7</td>\n",
       "    </tr>\n",
       "    <tr>\n",
       "      <th>Confirmation - Time</th>\n",
       "      <td>21201</td>\n",
       "      <td>15742</td>\n",
       "      <td>9:56:52 AM</td>\n",
       "      <td>6</td>\n",
       "      <td>NaN</td>\n",
       "      <td>NaN</td>\n",
       "      <td>NaN</td>\n",
       "      <td>NaN</td>\n",
       "      <td>NaN</td>\n",
       "      <td>NaN</td>\n",
       "      <td>NaN</td>\n",
       "    </tr>\n",
       "    <tr>\n",
       "      <th>Arrival at Pickup - Day of Month</th>\n",
       "      <td>21201</td>\n",
       "      <td>NaN</td>\n",
       "      <td>NaN</td>\n",
       "      <td>NaN</td>\n",
       "      <td>15.6538</td>\n",
       "      <td>8.79889</td>\n",
       "      <td>1</td>\n",
       "      <td>8</td>\n",
       "      <td>15</td>\n",
       "      <td>23</td>\n",
       "      <td>31</td>\n",
       "    </tr>\n",
       "    <tr>\n",
       "      <th>Arrival at Pickup - Weekday (Mo = 1)</th>\n",
       "      <td>21201</td>\n",
       "      <td>NaN</td>\n",
       "      <td>NaN</td>\n",
       "      <td>NaN</td>\n",
       "      <td>3.24022</td>\n",
       "      <td>1.56723</td>\n",
       "      <td>1</td>\n",
       "      <td>2</td>\n",
       "      <td>3</td>\n",
       "      <td>5</td>\n",
       "      <td>7</td>\n",
       "    </tr>\n",
       "    <tr>\n",
       "      <th>Arrival at Pickup - Time</th>\n",
       "      <td>21201</td>\n",
       "      <td>15767</td>\n",
       "      <td>2:42:41 PM</td>\n",
       "      <td>6</td>\n",
       "      <td>NaN</td>\n",
       "      <td>NaN</td>\n",
       "      <td>NaN</td>\n",
       "      <td>NaN</td>\n",
       "      <td>NaN</td>\n",
       "      <td>NaN</td>\n",
       "      <td>NaN</td>\n",
       "    </tr>\n",
       "    <tr>\n",
       "      <th>Pickup - Day of Month</th>\n",
       "      <td>21201</td>\n",
       "      <td>NaN</td>\n",
       "      <td>NaN</td>\n",
       "      <td>NaN</td>\n",
       "      <td>15.6538</td>\n",
       "      <td>8.79889</td>\n",
       "      <td>1</td>\n",
       "      <td>8</td>\n",
       "      <td>15</td>\n",
       "      <td>23</td>\n",
       "      <td>31</td>\n",
       "    </tr>\n",
       "    <tr>\n",
       "      <th>Pickup - Weekday (Mo = 1)</th>\n",
       "      <td>21201</td>\n",
       "      <td>NaN</td>\n",
       "      <td>NaN</td>\n",
       "      <td>NaN</td>\n",
       "      <td>3.24022</td>\n",
       "      <td>1.56723</td>\n",
       "      <td>1</td>\n",
       "      <td>2</td>\n",
       "      <td>3</td>\n",
       "      <td>5</td>\n",
       "      <td>7</td>\n",
       "    </tr>\n",
       "    <tr>\n",
       "      <th>Pickup - Time</th>\n",
       "      <td>21201</td>\n",
       "      <td>15690</td>\n",
       "      <td>2:28:10 PM</td>\n",
       "      <td>6</td>\n",
       "      <td>NaN</td>\n",
       "      <td>NaN</td>\n",
       "      <td>NaN</td>\n",
       "      <td>NaN</td>\n",
       "      <td>NaN</td>\n",
       "      <td>NaN</td>\n",
       "      <td>NaN</td>\n",
       "    </tr>\n",
       "    <tr>\n",
       "      <th>Arrival at Destination - Day of Month</th>\n",
       "      <td>21201</td>\n",
       "      <td>NaN</td>\n",
       "      <td>NaN</td>\n",
       "      <td>NaN</td>\n",
       "      <td>15.6538</td>\n",
       "      <td>8.79889</td>\n",
       "      <td>1</td>\n",
       "      <td>8</td>\n",
       "      <td>15</td>\n",
       "      <td>23</td>\n",
       "      <td>31</td>\n",
       "    </tr>\n",
       "    <tr>\n",
       "      <th>Arrival at Destination - Weekday (Mo = 1)</th>\n",
       "      <td>21201</td>\n",
       "      <td>NaN</td>\n",
       "      <td>NaN</td>\n",
       "      <td>NaN</td>\n",
       "      <td>3.24022</td>\n",
       "      <td>1.56723</td>\n",
       "      <td>1</td>\n",
       "      <td>2</td>\n",
       "      <td>3</td>\n",
       "      <td>5</td>\n",
       "      <td>7</td>\n",
       "    </tr>\n",
       "    <tr>\n",
       "      <th>Arrival at Destination - Time</th>\n",
       "      <td>21201</td>\n",
       "      <td>15725</td>\n",
       "      <td>3:24:03 PM</td>\n",
       "      <td>7</td>\n",
       "      <td>NaN</td>\n",
       "      <td>NaN</td>\n",
       "      <td>NaN</td>\n",
       "      <td>NaN</td>\n",
       "      <td>NaN</td>\n",
       "      <td>NaN</td>\n",
       "      <td>NaN</td>\n",
       "    </tr>\n",
       "    <tr>\n",
       "      <th>Distance (KM)</th>\n",
       "      <td>21201</td>\n",
       "      <td>NaN</td>\n",
       "      <td>NaN</td>\n",
       "      <td>NaN</td>\n",
       "      <td>9.50653</td>\n",
       "      <td>5.66896</td>\n",
       "      <td>1</td>\n",
       "      <td>5</td>\n",
       "      <td>8</td>\n",
       "      <td>13</td>\n",
       "      <td>49</td>\n",
       "    </tr>\n",
       "    <tr>\n",
       "      <th>Temperature</th>\n",
       "      <td>16835</td>\n",
       "      <td>NaN</td>\n",
       "      <td>NaN</td>\n",
       "      <td>NaN</td>\n",
       "      <td>23.2589</td>\n",
       "      <td>3.61577</td>\n",
       "      <td>11.2</td>\n",
       "      <td>20.6</td>\n",
       "      <td>23.5</td>\n",
       "      <td>26</td>\n",
       "      <td>32.1</td>\n",
       "    </tr>\n",
       "    <tr>\n",
       "      <th>Precipitation in millimeters</th>\n",
       "      <td>552</td>\n",
       "      <td>NaN</td>\n",
       "      <td>NaN</td>\n",
       "      <td>NaN</td>\n",
       "      <td>7.9058</td>\n",
       "      <td>17.09</td>\n",
       "      <td>0.1</td>\n",
       "      <td>1.075</td>\n",
       "      <td>2.9</td>\n",
       "      <td>4.9</td>\n",
       "      <td>99.1</td>\n",
       "    </tr>\n",
       "    <tr>\n",
       "      <th>Pickup Lat</th>\n",
       "      <td>21201</td>\n",
       "      <td>NaN</td>\n",
       "      <td>NaN</td>\n",
       "      <td>NaN</td>\n",
       "      <td>-1.28147</td>\n",
       "      <td>0.0305071</td>\n",
       "      <td>-1.4383</td>\n",
       "      <td>-1.30092</td>\n",
       "      <td>-1.2794</td>\n",
       "      <td>-1.25715</td>\n",
       "      <td>-1.14717</td>\n",
       "    </tr>\n",
       "    <tr>\n",
       "      <th>Pickup Long</th>\n",
       "      <td>21201</td>\n",
       "      <td>NaN</td>\n",
       "      <td>NaN</td>\n",
       "      <td>NaN</td>\n",
       "      <td>36.8113</td>\n",
       "      <td>0.0374726</td>\n",
       "      <td>36.6536</td>\n",
       "      <td>36.7846</td>\n",
       "      <td>36.807</td>\n",
       "      <td>36.8297</td>\n",
       "      <td>36.991</td>\n",
       "    </tr>\n",
       "    <tr>\n",
       "      <th>Destination Lat</th>\n",
       "      <td>21201</td>\n",
       "      <td>NaN</td>\n",
       "      <td>NaN</td>\n",
       "      <td>NaN</td>\n",
       "      <td>-1.28258</td>\n",
       "      <td>0.0348236</td>\n",
       "      <td>-1.4303</td>\n",
       "      <td>-1.3012</td>\n",
       "      <td>-1.28438</td>\n",
       "      <td>-1.26118</td>\n",
       "      <td>-1.03023</td>\n",
       "    </tr>\n",
       "    <tr>\n",
       "      <th>Destination Long</th>\n",
       "      <td>21201</td>\n",
       "      <td>NaN</td>\n",
       "      <td>NaN</td>\n",
       "      <td>NaN</td>\n",
       "      <td>36.8112</td>\n",
       "      <td>0.0447206</td>\n",
       "      <td>36.6066</td>\n",
       "      <td>36.7857</td>\n",
       "      <td>36.808</td>\n",
       "      <td>36.8295</td>\n",
       "      <td>37.0168</td>\n",
       "    </tr>\n",
       "    <tr>\n",
       "      <th>Rider Id</th>\n",
       "      <td>21201</td>\n",
       "      <td>924</td>\n",
       "      <td>Rider_Id_726</td>\n",
       "      <td>247</td>\n",
       "      <td>NaN</td>\n",
       "      <td>NaN</td>\n",
       "      <td>NaN</td>\n",
       "      <td>NaN</td>\n",
       "      <td>NaN</td>\n",
       "      <td>NaN</td>\n",
       "      <td>NaN</td>\n",
       "    </tr>\n",
       "    <tr>\n",
       "      <th>Time from Pickup to Arrival</th>\n",
       "      <td>21201</td>\n",
       "      <td>NaN</td>\n",
       "      <td>NaN</td>\n",
       "      <td>NaN</td>\n",
       "      <td>1556.92</td>\n",
       "      <td>987.271</td>\n",
       "      <td>1</td>\n",
       "      <td>882</td>\n",
       "      <td>1369</td>\n",
       "      <td>2040</td>\n",
       "      <td>7883</td>\n",
       "    </tr>\n",
       "    <tr>\n",
       "      <th>No_Of_Orders</th>\n",
       "      <td>21201</td>\n",
       "      <td>NaN</td>\n",
       "      <td>NaN</td>\n",
       "      <td>NaN</td>\n",
       "      <td>1692.42</td>\n",
       "      <td>1574.31</td>\n",
       "      <td>2</td>\n",
       "      <td>557</td>\n",
       "      <td>1212</td>\n",
       "      <td>2311</td>\n",
       "      <td>9756</td>\n",
       "    </tr>\n",
       "    <tr>\n",
       "      <th>Age</th>\n",
       "      <td>21201</td>\n",
       "      <td>NaN</td>\n",
       "      <td>NaN</td>\n",
       "      <td>NaN</td>\n",
       "      <td>984.743</td>\n",
       "      <td>646.653</td>\n",
       "      <td>96</td>\n",
       "      <td>495</td>\n",
       "      <td>872</td>\n",
       "      <td>1236</td>\n",
       "      <td>3764</td>\n",
       "    </tr>\n",
       "    <tr>\n",
       "      <th>Average_Rating</th>\n",
       "      <td>21201</td>\n",
       "      <td>NaN</td>\n",
       "      <td>NaN</td>\n",
       "      <td>NaN</td>\n",
       "      <td>13.8825</td>\n",
       "      <td>0.916071</td>\n",
       "      <td>0</td>\n",
       "      <td>13.6</td>\n",
       "      <td>14</td>\n",
       "      <td>14.3</td>\n",
       "      <td>15.2</td>\n",
       "    </tr>\n",
       "    <tr>\n",
       "      <th>No_of_Ratings</th>\n",
       "      <td>21201</td>\n",
       "      <td>NaN</td>\n",
       "      <td>NaN</td>\n",
       "      <td>NaN</td>\n",
       "      <td>341.067</td>\n",
       "      <td>402.868</td>\n",
       "      <td>0</td>\n",
       "      <td>61</td>\n",
       "      <td>161</td>\n",
       "      <td>495</td>\n",
       "      <td>2298</td>\n",
       "    </tr>\n",
       "  </tbody>\n",
       "</table>\n",
       "</div>"
      ],
      "text/plain": [
       "                                           count unique            top   freq  \\\n",
       "Order No                                   21201  21201  Order_No_3140      1   \n",
       "User Id                                    21201   3186    User_Id_393    645   \n",
       "Vehicle Type                               21201      1           Bike  21201   \n",
       "Platform Type                              21201    NaN            NaN    NaN   \n",
       "Personal or Business                       21201      2       Business  17384   \n",
       "Placement - Day of Month                   21201    NaN            NaN    NaN   \n",
       "Placement - Weekday (Mo = 1)               21201    NaN            NaN    NaN   \n",
       "Placement - Time                           21201  15686     2:57:22 PM      6   \n",
       "Confirmation - Day of Month                21201    NaN            NaN    NaN   \n",
       "Confirmation - Weekday (Mo = 1)            21201    NaN            NaN    NaN   \n",
       "Confirmation - Time                        21201  15742     9:56:52 AM      6   \n",
       "Arrival at Pickup - Day of Month           21201    NaN            NaN    NaN   \n",
       "Arrival at Pickup - Weekday (Mo = 1)       21201    NaN            NaN    NaN   \n",
       "Arrival at Pickup - Time                   21201  15767     2:42:41 PM      6   \n",
       "Pickup - Day of Month                      21201    NaN            NaN    NaN   \n",
       "Pickup - Weekday (Mo = 1)                  21201    NaN            NaN    NaN   \n",
       "Pickup - Time                              21201  15690     2:28:10 PM      6   \n",
       "Arrival at Destination - Day of Month      21201    NaN            NaN    NaN   \n",
       "Arrival at Destination - Weekday (Mo = 1)  21201    NaN            NaN    NaN   \n",
       "Arrival at Destination - Time              21201  15725     3:24:03 PM      7   \n",
       "Distance (KM)                              21201    NaN            NaN    NaN   \n",
       "Temperature                                16835    NaN            NaN    NaN   \n",
       "Precipitation in millimeters                 552    NaN            NaN    NaN   \n",
       "Pickup Lat                                 21201    NaN            NaN    NaN   \n",
       "Pickup Long                                21201    NaN            NaN    NaN   \n",
       "Destination Lat                            21201    NaN            NaN    NaN   \n",
       "Destination Long                           21201    NaN            NaN    NaN   \n",
       "Rider Id                                   21201    924   Rider_Id_726    247   \n",
       "Time from Pickup to Arrival                21201    NaN            NaN    NaN   \n",
       "No_Of_Orders                               21201    NaN            NaN    NaN   \n",
       "Age                                        21201    NaN            NaN    NaN   \n",
       "Average_Rating                             21201    NaN            NaN    NaN   \n",
       "No_of_Ratings                              21201    NaN            NaN    NaN   \n",
       "\n",
       "                                              mean        std      min  \\\n",
       "Order No                                       NaN        NaN      NaN   \n",
       "User Id                                        NaN        NaN      NaN   \n",
       "Vehicle Type                                   NaN        NaN      NaN   \n",
       "Platform Type                              2.75218   0.625178        1   \n",
       "Personal or Business                           NaN        NaN      NaN   \n",
       "Placement - Day of Month                   15.6537    8.79892        1   \n",
       "Placement - Weekday (Mo = 1)               3.24008     1.5673        1   \n",
       "Placement - Time                               NaN        NaN      NaN   \n",
       "Confirmation - Day of Month                15.6538    8.79889        1   \n",
       "Confirmation - Weekday (Mo = 1)            3.24022    1.56723        1   \n",
       "Confirmation - Time                            NaN        NaN      NaN   \n",
       "Arrival at Pickup - Day of Month           15.6538    8.79889        1   \n",
       "Arrival at Pickup - Weekday (Mo = 1)       3.24022    1.56723        1   \n",
       "Arrival at Pickup - Time                       NaN        NaN      NaN   \n",
       "Pickup - Day of Month                      15.6538    8.79889        1   \n",
       "Pickup - Weekday (Mo = 1)                  3.24022    1.56723        1   \n",
       "Pickup - Time                                  NaN        NaN      NaN   \n",
       "Arrival at Destination - Day of Month      15.6538    8.79889        1   \n",
       "Arrival at Destination - Weekday (Mo = 1)  3.24022    1.56723        1   \n",
       "Arrival at Destination - Time                  NaN        NaN      NaN   \n",
       "Distance (KM)                              9.50653    5.66896        1   \n",
       "Temperature                                23.2589    3.61577     11.2   \n",
       "Precipitation in millimeters                7.9058      17.09      0.1   \n",
       "Pickup Lat                                -1.28147  0.0305071  -1.4383   \n",
       "Pickup Long                                36.8113  0.0374726  36.6536   \n",
       "Destination Lat                           -1.28258  0.0348236  -1.4303   \n",
       "Destination Long                           36.8112  0.0447206  36.6066   \n",
       "Rider Id                                       NaN        NaN      NaN   \n",
       "Time from Pickup to Arrival                1556.92    987.271        1   \n",
       "No_Of_Orders                               1692.42    1574.31        2   \n",
       "Age                                        984.743    646.653       96   \n",
       "Average_Rating                             13.8825   0.916071        0   \n",
       "No_of_Ratings                              341.067    402.868        0   \n",
       "\n",
       "                                               25%      50%      75%      max  \n",
       "Order No                                       NaN      NaN      NaN      NaN  \n",
       "User Id                                        NaN      NaN      NaN      NaN  \n",
       "Vehicle Type                                   NaN      NaN      NaN      NaN  \n",
       "Platform Type                                    3        3        3        4  \n",
       "Personal or Business                           NaN      NaN      NaN      NaN  \n",
       "Placement - Day of Month                         8       15       23       31  \n",
       "Placement - Weekday (Mo = 1)                     2        3        5        7  \n",
       "Placement - Time                               NaN      NaN      NaN      NaN  \n",
       "Confirmation - Day of Month                      8       15       23       31  \n",
       "Confirmation - Weekday (Mo = 1)                  2        3        5        7  \n",
       "Confirmation - Time                            NaN      NaN      NaN      NaN  \n",
       "Arrival at Pickup - Day of Month                 8       15       23       31  \n",
       "Arrival at Pickup - Weekday (Mo = 1)             2        3        5        7  \n",
       "Arrival at Pickup - Time                       NaN      NaN      NaN      NaN  \n",
       "Pickup - Day of Month                            8       15       23       31  \n",
       "Pickup - Weekday (Mo = 1)                        2        3        5        7  \n",
       "Pickup - Time                                  NaN      NaN      NaN      NaN  \n",
       "Arrival at Destination - Day of Month            8       15       23       31  \n",
       "Arrival at Destination - Weekday (Mo = 1)        2        3        5        7  \n",
       "Arrival at Destination - Time                  NaN      NaN      NaN      NaN  \n",
       "Distance (KM)                                    5        8       13       49  \n",
       "Temperature                                   20.6     23.5       26     32.1  \n",
       "Precipitation in millimeters                 1.075      2.9      4.9     99.1  \n",
       "Pickup Lat                                -1.30092  -1.2794 -1.25715 -1.14717  \n",
       "Pickup Long                                36.7846   36.807  36.8297   36.991  \n",
       "Destination Lat                            -1.3012 -1.28438 -1.26118 -1.03023  \n",
       "Destination Long                           36.7857   36.808  36.8295  37.0168  \n",
       "Rider Id                                       NaN      NaN      NaN      NaN  \n",
       "Time from Pickup to Arrival                    882     1369     2040     7883  \n",
       "No_Of_Orders                                   557     1212     2311     9756  \n",
       "Age                                            495      872     1236     3764  \n",
       "Average_Rating                                13.6       14     14.3     15.2  \n",
       "No_of_Ratings                                   61      161      495     2298  "
      ]
     },
     "execution_count": 39,
     "metadata": {},
     "output_type": "execute_result"
    }
   ],
   "source": [
    "Complete_Dataset.describe(include='all').transpose()"
   ]
  },
  {
   "cell_type": "markdown",
   "metadata": {},
   "source": [
    "## Checking for missing values in the dataset "
   ]
  },
  {
   "cell_type": "code",
   "execution_count": 40,
   "metadata": {},
   "outputs": [
    {
     "data": {
      "text/plain": [
       "Order No                                         0\n",
       "User Id                                          0\n",
       "Vehicle Type                                     0\n",
       "Platform Type                                    0\n",
       "Personal or Business                             0\n",
       "Placement - Day of Month                         0\n",
       "Placement - Weekday (Mo = 1)                     0\n",
       "Placement - Time                                 0\n",
       "Confirmation - Day of Month                      0\n",
       "Confirmation - Weekday (Mo = 1)                  0\n",
       "Confirmation - Time                              0\n",
       "Arrival at Pickup - Day of Month                 0\n",
       "Arrival at Pickup - Weekday (Mo = 1)             0\n",
       "Arrival at Pickup - Time                         0\n",
       "Pickup - Day of Month                            0\n",
       "Pickup - Weekday (Mo = 1)                        0\n",
       "Pickup - Time                                    0\n",
       "Arrival at Destination - Day of Month            0\n",
       "Arrival at Destination - Weekday (Mo = 1)        0\n",
       "Arrival at Destination - Time                    0\n",
       "Distance (KM)                                    0\n",
       "Temperature                                   4366\n",
       "Precipitation in millimeters                 20649\n",
       "Pickup Lat                                       0\n",
       "Pickup Long                                      0\n",
       "Destination Lat                                  0\n",
       "Destination Long                                 0\n",
       "Rider Id                                         0\n",
       "Time from Pickup to Arrival                      0\n",
       "No_Of_Orders                                     0\n",
       "Age                                              0\n",
       "Average_Rating                                   0\n",
       "No_of_Ratings                                    0\n",
       "dtype: int64"
      ]
     },
     "execution_count": 40,
     "metadata": {},
     "output_type": "execute_result"
    }
   ],
   "source": [
    "Complete_Dataset.isnull().sum()"
   ]
  },
  {
   "cell_type": "markdown",
   "metadata": {},
   "source": [
    "Temperature and Precipitation have 4,366 and 20,649 missing values respectively. The remaining features has no missing values.These missing values are for continuous features"
   ]
  },
  {
   "cell_type": "markdown",
   "metadata": {},
   "source": [
    "## Representing this in Percentage"
   ]
  },
  {
   "cell_type": "code",
   "execution_count": 41,
   "metadata": {},
   "outputs": [
    {
     "data": {
      "text/plain": [
       "Order No                                      0.00\n",
       "User Id                                       0.00\n",
       "Vehicle Type                                  0.00\n",
       "Platform Type                                 0.00\n",
       "Personal or Business                          0.00\n",
       "Placement - Day of Month                      0.00\n",
       "Placement - Weekday (Mo = 1)                  0.00\n",
       "Placement - Time                              0.00\n",
       "Confirmation - Day of Month                   0.00\n",
       "Confirmation - Weekday (Mo = 1)               0.00\n",
       "Confirmation - Time                           0.00\n",
       "Arrival at Pickup - Day of Month              0.00\n",
       "Arrival at Pickup - Weekday (Mo = 1)          0.00\n",
       "Arrival at Pickup - Time                      0.00\n",
       "Pickup - Day of Month                         0.00\n",
       "Pickup - Weekday (Mo = 1)                     0.00\n",
       "Pickup - Time                                 0.00\n",
       "Arrival at Destination - Day of Month         0.00\n",
       "Arrival at Destination - Weekday (Mo = 1)     0.00\n",
       "Arrival at Destination - Time                 0.00\n",
       "Distance (KM)                                 0.00\n",
       "Temperature                                  20.59\n",
       "Precipitation in millimeters                 97.40\n",
       "Pickup Lat                                    0.00\n",
       "Pickup Long                                   0.00\n",
       "Destination Lat                               0.00\n",
       "Destination Long                              0.00\n",
       "Rider Id                                      0.00\n",
       "Time from Pickup to Arrival                   0.00\n",
       "No_Of_Orders                                  0.00\n",
       "Age                                           0.00\n",
       "Average_Rating                                0.00\n",
       "No_of_Ratings                                 0.00\n",
       "dtype: float64"
      ]
     },
     "execution_count": 41,
     "metadata": {},
     "output_type": "execute_result"
    }
   ],
   "source": [
    "Complete_Dataset.isnull().mean().round(4) * 100"
   ]
  },
  {
   "cell_type": "markdown",
   "metadata": {},
   "source": [
    "For Temperature, 20.59% of its observations are missing. Precipitation has 97.4% of its data missing."
   ]
  },
  {
   "cell_type": "markdown",
   "metadata": {},
   "source": [
    "Since only 21% of temperature data is missing, we will impute it with the mean. Precipitation will be dropped because using the mean of 3.7% data to replace the missing value might not give the true representation. "
   ]
  },
  {
   "cell_type": "markdown",
   "metadata": {},
   "source": [
    "## Replacing missing values in Temperature with its mean"
   ]
  },
  {
   "cell_type": "code",
   "execution_count": 42,
   "metadata": {},
   "outputs": [],
   "source": [
    "Complete_Dataset['Temperature'] = Complete_Dataset['Temperature'].fillna(Complete_Dataset['Temperature'].mean())"
   ]
  },
  {
   "cell_type": "markdown",
   "metadata": {},
   "source": [
    "## Dropping Precipitation from dataset"
   ]
  },
  {
   "cell_type": "code",
   "execution_count": 43,
   "metadata": {},
   "outputs": [],
   "source": [
    "Complete_Dataset=Complete_Dataset.drop(['Precipitation in millimeters'],axis=True)"
   ]
  },
  {
   "cell_type": "markdown",
   "metadata": {},
   "source": [
    "#  "
   ]
  },
  {
   "cell_type": "markdown",
   "metadata": {},
   "source": [
    "## Creating New Features "
   ]
  },
  {
   "cell_type": "markdown",
   "metadata": {},
   "source": [
    "#### Making a copy of the complete dataset. The complete dataset will be needed for the regression without the new features "
   ]
  },
  {
   "cell_type": "code",
   "execution_count": 53,
   "metadata": {},
   "outputs": [],
   "source": [
    "Data_With_New_Features = Complete_Dataset.copy()"
   ]
  },
  {
   "cell_type": "code",
   "execution_count": 54,
   "metadata": {},
   "outputs": [
    {
     "data": {
      "text/plain": [
       "(21201, 32)"
      ]
     },
     "execution_count": 54,
     "metadata": {},
     "output_type": "execute_result"
    }
   ],
   "source": [
    "Data_With_New_Features.shape"
   ]
  },
  {
   "cell_type": "markdown",
   "metadata": {},
   "source": [
    "### Creating new feature, Placement Period of Day"
   ]
  },
  {
   "cell_type": "markdown",
   "metadata": {},
   "source": [
    "Converting Placement time to a timestamp"
   ]
  },
  {
   "cell_type": "code",
   "execution_count": 55,
   "metadata": {},
   "outputs": [],
   "source": [
    "from datetime import datetime\n",
    "Data_With_New_Features['Placement - Time'] = Data_With_New_Features['Placement - Time'].apply(lambda x: datetime.strptime(x,'%I:%M:%S %p'))"
   ]
  },
  {
   "cell_type": "markdown",
   "metadata": {},
   "source": [
    "Extracting hour of timestamp"
   ]
  },
  {
   "cell_type": "code",
   "execution_count": 56,
   "metadata": {},
   "outputs": [],
   "source": [
    "Data_With_New_Features['Placement Period of day'] = Data_With_New_Features['Placement - Time'].dt.hour"
   ]
  },
  {
   "cell_type": "markdown",
   "metadata": {},
   "source": [
    "Categorizing hours of the day into Morning, Afternoon and Evening"
   ]
  },
  {
   "cell_type": "code",
   "execution_count": 57,
   "metadata": {},
   "outputs": [],
   "source": [
    "# Create a list to store the data\n",
    "P_period=[]\n",
    "\n",
    "# Using a for loop to populate the list\n",
    "for hour in Data_With_New_Features['Placement Period of day']:\n",
    "    if (hour<12):\n",
    "         P_period.append('Morning')\n",
    "    elif (hour>12 & hour<16):\n",
    "         P_period.append('Afternoon')\n",
    "    else:\n",
    "         P_period.append('Evening')\n",
    "            \n",
    "# Storing the data as a column in Data_With_New_Features\n",
    "Data_With_New_Features['Placement Period of day'] = P_period"
   ]
  },
  {
   "cell_type": "markdown",
   "metadata": {},
   "source": [
    "##  Creating Confirmation Period of Day"
   ]
  },
  {
   "cell_type": "code",
   "execution_count": 58,
   "metadata": {},
   "outputs": [],
   "source": [
    "Data_With_New_Features['Confirmation - Time'] = Data_With_New_Features['Confirmation - Time'].apply(lambda x: datetime.strptime(x,'%I:%M:%S %p'))\n",
    "Data_With_New_Features['Confirmation Period of day'] = Data_With_New_Features['Confirmation - Time'].dt.hour\n",
    "# Create a list to store the data\n",
    "C_period=[]\n",
    "\n",
    "# Using a for loop to populate the list\n",
    "for hour in Data_With_New_Features['Confirmation Period of day']:\n",
    "    if (hour<12):\n",
    "         C_period.append('Morning')\n",
    "    elif (hour>12 & hour<16):\n",
    "         C_period.append('Afternoon')\n",
    "    else:\n",
    "         C_period.append('Evening')\n",
    "            \n",
    "# Storing the data as a column in Data_With_New_Features\n",
    "Data_With_New_Features['Confirmation Period of day'] = C_period"
   ]
  },
  {
   "cell_type": "markdown",
   "metadata": {},
   "source": [
    "## Creating Arrival at Pickup Period of Day "
   ]
  },
  {
   "cell_type": "code",
   "execution_count": 59,
   "metadata": {},
   "outputs": [],
   "source": [
    "Data_With_New_Features['Arrival at Pickup - Time'] = Data_With_New_Features['Arrival at Pickup - Time'].apply(lambda x: datetime.strptime(x,'%I:%M:%S %p'))\n",
    "Data_With_New_Features['Arrival at Pickup Period of day'] = Data_With_New_Features['Arrival at Pickup - Time'].dt.hour\n",
    "# Create a list to store the data\n",
    "A_period=[]\n",
    "\n",
    "# Using a for loop to populate the list\n",
    "for hour in Data_With_New_Features['Arrival at Pickup Period of day']:\n",
    "    if (hour<12):\n",
    "         A_period.append('Morning')\n",
    "    elif (hour>12 & hour<16):\n",
    "         A_period.append('Afternoon')\n",
    "    else:\n",
    "         A_period.append('Evening')\n",
    "            \n",
    "# Storing the data as a column in Data_With_New_Features\n",
    "Data_With_New_Features['Arrival at Pickup Period of day'] = A_period"
   ]
  },
  {
   "cell_type": "markdown",
   "metadata": {},
   "source": [
    "## Creating Arrival at Destination Period of Day "
   ]
  },
  {
   "cell_type": "code",
   "execution_count": 60,
   "metadata": {},
   "outputs": [],
   "source": [
    "Data_With_New_Features['Arrival at Destination - Time'] = Data_With_New_Features['Arrival at Destination - Time'].apply(lambda x: datetime.strptime(x,'%I:%M:%S %p'))\n",
    "Data_With_New_Features['Arrival at Destination Period of day'] = Data_With_New_Features['Arrival at Destination - Time'].dt.hour\n",
    "# Create a list to store the data\n",
    "D_period=[]\n",
    "\n",
    "# Using a for loop to populate the list\n",
    "for hour in Data_With_New_Features['Arrival at Destination Period of day']:\n",
    "    if (hour<12):\n",
    "         D_period.append('Morning')\n",
    "    elif (hour>12 & hour<16):\n",
    "         D_period.append('Afternoon')\n",
    "    else:\n",
    "         D_period.append('Evening')\n",
    "            \n",
    "# Storing the data as a column in Data_With_New_Features\n",
    "Data_With_New_Features['Arrival at Destination Period of day'] = D_period"
   ]
  },
  {
   "cell_type": "markdown",
   "metadata": {},
   "source": [
    "## Creating Pickup Period of Day"
   ]
  },
  {
   "cell_type": "code",
   "execution_count": 61,
   "metadata": {},
   "outputs": [],
   "source": [
    "Data_With_New_Features['Pickup - Time'] = Data_With_New_Features['Pickup - Time'].apply(lambda x: datetime.strptime(x,'%I:%M:%S %p'))\n",
    "Data_With_New_Features['Pickup Period of day'] = Data_With_New_Features['Pickup - Time'].dt.hour\n",
    "# Create a list to store the data\n",
    "Pk_period=[]\n",
    "\n",
    "# Using a for loop to populate the list\n",
    "for hour in Data_With_New_Features['Pickup Period of day']:\n",
    "    if (hour<12):\n",
    "         Pk_period.append('Morning')\n",
    "    elif (hour>12 & hour<16):\n",
    "         Pk_period.append('Afternoon')\n",
    "    else:\n",
    "         Pk_period.append('Evening')\n",
    "            \n",
    "# Storing the data as a column in Data_With_New_Features\n",
    "Data_With_New_Features['Pickup Period of day'] = Pk_period"
   ]
  },
  {
   "cell_type": "markdown",
   "metadata": {},
   "source": [
    "## Categorizing days into Weekdays and Weekends for Day Variables"
   ]
  },
  {
   "cell_type": "code",
   "execution_count": 62,
   "metadata": {},
   "outputs": [],
   "source": [
    "Data_With_New_Features['Placement day'] = np.where(Data_With_New_Features['Placement - Weekday (Mo = 1)']<6, 'Weekday', 'Weekend')\n",
    "Data_With_New_Features['Confirmation day'] = np.where(Data_With_New_Features['Confirmation - Weekday (Mo = 1)']<6, 'Weekday', 'Weekend')\n",
    "Data_With_New_Features['Pickup day'] = np.where(Data_With_New_Features['Pickup - Weekday (Mo = 1)']<6, 'Weekday', 'Weekend')\n",
    "Data_With_New_Features['Arrival at Destination day'] = np.where(Data_With_New_Features['Arrival at Destination - Weekday (Mo = 1)']<6, 'Weekday', 'Weekend')\n",
    "Data_With_New_Features['Arrival at Pickup day'] = np.where(Data_With_New_Features['Arrival at Pickup - Weekday (Mo = 1)']<6, 'Weekday', 'Weekend')"
   ]
  },
  {
   "cell_type": "markdown",
   "metadata": {},
   "source": [
    "## Computing for proximity of The Nairobi Central Business District to the Pick up and Destination points"
   ]
  },
  {
   "cell_type": "markdown",
   "metadata": {},
   "source": [
    "### For Pick up point"
   ]
  },
  {
   "cell_type": "code",
   "execution_count": 63,
   "metadata": {},
   "outputs": [],
   "source": [
    "# importing geodesic from geopy \n",
    "from geopy.distance import geodesic\n",
    "\n",
    "#Creating a column for CBD proximity and populating it with Nan\n",
    "Data_With_New_Features['CBD Proximity to Pickup Point']=np.nan\n",
    "\n",
    "# Latitude and longitude for Central Business District (Taken online)\n",
    "CBD=(-1.299719,36.816097)\n",
    "\n",
    "# Iterating through Data to compute for Distance(km)\n",
    "for i, row in Data_With_New_Features.iterrows():\n",
    "    Data_With_New_Features.loc[i, 'CBD Proximity to Pickup Point'] = geodesic((Data_With_New_Features.loc[i, 'Pickup Lat'],Data_With_New_Features.loc[i, 'Pickup Long']),CBD).km "
   ]
  },
  {
   "cell_type": "markdown",
   "metadata": {},
   "source": [
    "### For Destination"
   ]
  },
  {
   "cell_type": "code",
   "execution_count": 64,
   "metadata": {},
   "outputs": [],
   "source": [
    "# importing geodesic from geopy \n",
    "from geopy.distance import geodesic\n",
    "\n",
    "#Creating a column for CBD proximity and populating it with Nan\n",
    "Data_With_New_Features['CBD Proximity to Destination']=np.nan\n",
    "\n",
    "# Latitude and longitude for Central Business District (Taken online)\n",
    "CBD=(-1.299719,36.816097)\n",
    "\n",
    "# Iterating through Data to compute for Distance(km)\n",
    "for i, row in Data_With_New_Features.iterrows():\n",
    "    Data_With_New_Features.loc[i, 'CBD Proximity to Destination'] = geodesic((Data_With_New_Features.loc[i, 'Destination Lat'],Data_With_New_Features.loc[i, 'Destination Long']),CBD).km"
   ]
  },
  {
   "cell_type": "markdown",
   "metadata": {},
   "source": [
    "## Categorizing Temperature into favourable and unfavourable (20-29 Degree Celcius being favourable)"
   ]
  },
  {
   "cell_type": "code",
   "execution_count": 65,
   "metadata": {},
   "outputs": [],
   "source": [
    "Temp_Cat=[]\n",
    "\n",
    "# Using a for loop to populate the list\n",
    "for temp in Data_With_New_Features['Temperature']:\n",
    "    if (temp>20 and temp<29):\n",
    "         Temp_Cat.append('Favourable')\n",
    "    else:\n",
    "         Temp_Cat.append('Unfavourable')\n",
    "\n",
    "# Storing the data as a column in Data_With_New_Features\n",
    "Data_With_New_Features['Temperature Condition'] = Temp_Cat"
   ]
  },
  {
   "cell_type": "markdown",
   "metadata": {},
   "source": [
    "## Categorizing Day of month into 1st, 2nd, 3rd and 4th week"
   ]
  },
  {
   "cell_type": "markdown",
   "metadata": {},
   "source": [
    "### For Placement Day of Month "
   ]
  },
  {
   "cell_type": "code",
   "execution_count": 66,
   "metadata": {},
   "outputs": [],
   "source": [
    "# Create a list to store the data\n",
    "PDM=[]\n",
    "\n",
    "# Using a for loop to populate the list\n",
    "for day in Data_With_New_Features['Placement - Day of Month']:\n",
    "    if (day>0 and day<8):\n",
    "        PDM.append('Week One')        \n",
    "    elif (day>7 and day<16):\n",
    "        PDM.append('Week Two')\n",
    "    elif (day>15 and day<24):\n",
    "        PDM.append('Week Three')\n",
    "    else:\n",
    "        PDM.append('Week Four')\n",
    "            \n",
    "# Storing the data as a column in Data_With_New_Features\n",
    "Data_With_New_Features['Placement Week'] = PDM"
   ]
  },
  {
   "cell_type": "markdown",
   "metadata": {},
   "source": [
    "### For Confirmation Day of Month "
   ]
  },
  {
   "cell_type": "code",
   "execution_count": 67,
   "metadata": {},
   "outputs": [],
   "source": [
    "# Create a list to store the data\n",
    "CDM=[]\n",
    "\n",
    "# Using a for loop to populate the list\n",
    "for day in Data_With_New_Features['Confirmation - Day of Month']:\n",
    "    if (day>0 and day<8):\n",
    "        CDM.append('Week One')        \n",
    "    elif (day>7 and day<16):\n",
    "        CDM.append('Week Two')\n",
    "    elif (day>15 and day<24):\n",
    "        CDM.append('Week Three')\n",
    "    else:\n",
    "        CDM.append('Week Four')\n",
    "            \n",
    "# Storing the data as a column in Data_With_New_Features\n",
    "Data_With_New_Features['Confirmation Week'] = CDM"
   ]
  },
  {
   "cell_type": "markdown",
   "metadata": {},
   "source": [
    "### For Arrival at Pickup Day of Month "
   ]
  },
  {
   "cell_type": "code",
   "execution_count": 68,
   "metadata": {},
   "outputs": [],
   "source": [
    "# Create a list to store the data\n",
    "ADM=[]\n",
    "\n",
    "# Using a for loop to populate the list\n",
    "for day in Data_With_New_Features['Arrival at Pickup - Day of Month']:\n",
    "    if (day>0 and day<8):\n",
    "        ADM.append('Week One')        \n",
    "    elif (day>7 and day<16):\n",
    "        ADM.append('Week Two')\n",
    "    elif (day>15 and day<24):\n",
    "        ADM.append('Week Three')\n",
    "    else:\n",
    "        ADM.append('Week Four')\n",
    "            \n",
    "# Storing the data as a column in Data_With_New_Features\n",
    "Data_With_New_Features['Arrival at Pickup Week'] = ADM"
   ]
  },
  {
   "cell_type": "markdown",
   "metadata": {},
   "source": [
    "### For Pickup Day of Month "
   ]
  },
  {
   "cell_type": "code",
   "execution_count": 69,
   "metadata": {},
   "outputs": [],
   "source": [
    "# Create a list to store the data\n",
    "PkDM=[]\n",
    "\n",
    "# Using a for loop to populate the list\n",
    "for day in Data_With_New_Features['Pickup - Day of Month']:\n",
    "    if (day>0 and day<8):\n",
    "        PkDM.append('Week One')        \n",
    "    elif (day>7 and day<16):\n",
    "        PkDM.append('Week Two')\n",
    "    elif (day>15 and day<24):\n",
    "        PkDM.append('Week Three')\n",
    "    else:\n",
    "        PkDM.append('Week Four')\n",
    "            \n",
    "# Storing the data as a column in Data_With_New_Features\n",
    "Data_With_New_Features['Pickup Week'] = PkDM"
   ]
  },
  {
   "cell_type": "markdown",
   "metadata": {},
   "source": [
    "## For Arrival at Destination Day of Month "
   ]
  },
  {
   "cell_type": "code",
   "execution_count": 70,
   "metadata": {},
   "outputs": [],
   "source": [
    "# Create a list to store the data\n",
    "AdDM=[]\n",
    "\n",
    "# Using a for loop to populate the list\n",
    "for day in Data_With_New_Features['Arrival at Destination - Day of Month']:\n",
    "    if (day>0 and day<8):\n",
    "        AdDM.append('Week One')        \n",
    "    elif (day>7 and day<16):\n",
    "        AdDM.append('Week Two')\n",
    "    elif (day>15 and day<24):\n",
    "        AdDM.append('Week Three')\n",
    "    else:\n",
    "        AdDM.append('Week Four')\n",
    "            \n",
    "# Storing the data as a column in Data_With_New_Features\n",
    "Data_With_New_Features['Arrival at Destination Week'] = AdDM"
   ]
  },
  {
   "cell_type": "markdown",
   "metadata": {},
   "source": [
    "### Checking to see the average delivery time for weekdays and weekends for Placement of order"
   ]
  },
  {
   "cell_type": "code",
   "execution_count": 71,
   "metadata": {},
   "outputs": [
    {
     "data": {
      "text/html": [
       "<div>\n",
       "<style scoped>\n",
       "    .dataframe tbody tr th:only-of-type {\n",
       "        vertical-align: middle;\n",
       "    }\n",
       "\n",
       "    .dataframe tbody tr th {\n",
       "        vertical-align: top;\n",
       "    }\n",
       "\n",
       "    .dataframe thead th {\n",
       "        text-align: right;\n",
       "    }\n",
       "</style>\n",
       "<table border=\"1\" class=\"dataframe\">\n",
       "  <thead>\n",
       "    <tr style=\"text-align: right;\">\n",
       "      <th></th>\n",
       "      <th>Placement day</th>\n",
       "      <th>Time from Pickup to Arrival</th>\n",
       "    </tr>\n",
       "  </thead>\n",
       "  <tbody>\n",
       "    <tr>\n",
       "      <th>0</th>\n",
       "      <td>Weekday</td>\n",
       "      <td>1562.609337</td>\n",
       "    </tr>\n",
       "    <tr>\n",
       "      <th>1</th>\n",
       "      <td>Weekend</td>\n",
       "      <td>1477.017033</td>\n",
       "    </tr>\n",
       "  </tbody>\n",
       "</table>\n",
       "</div>"
      ],
      "text/plain": [
       "  Placement day  Time from Pickup to Arrival\n",
       "0       Weekday                  1562.609337\n",
       "1       Weekend                  1477.017033"
      ]
     },
     "execution_count": 71,
     "metadata": {},
     "output_type": "execute_result"
    }
   ],
   "source": [
    "Weekend_Weekday_Grouped=Data_With_New_Features.groupby(['Placement day'], as_index=False).mean()\n",
    "Weekend_Weekday_Grouped[['Placement day','Time from Pickup to Arrival']].sort_values('Time from Pickup to Arrival',ascending=False)"
   ]
  },
  {
   "cell_type": "markdown",
   "metadata": {},
   "source": [
    "From the table above, orders placed on Weekends are delivered faster as compared to order placements made on weekdays."
   ]
  },
  {
   "cell_type": "markdown",
   "metadata": {},
   "source": [
    "## Checking to see the average delivery time for weeks of month for pick ups"
   ]
  },
  {
   "cell_type": "code",
   "execution_count": 72,
   "metadata": {},
   "outputs": [
    {
     "data": {
      "text/html": [
       "<div>\n",
       "<style scoped>\n",
       "    .dataframe tbody tr th:only-of-type {\n",
       "        vertical-align: middle;\n",
       "    }\n",
       "\n",
       "    .dataframe tbody tr th {\n",
       "        vertical-align: top;\n",
       "    }\n",
       "\n",
       "    .dataframe thead th {\n",
       "        text-align: right;\n",
       "    }\n",
       "</style>\n",
       "<table border=\"1\" class=\"dataframe\">\n",
       "  <thead>\n",
       "    <tr style=\"text-align: right;\">\n",
       "      <th></th>\n",
       "      <th>Pickup Week</th>\n",
       "      <th>Time from Pickup to Arrival</th>\n",
       "    </tr>\n",
       "  </thead>\n",
       "  <tbody>\n",
       "    <tr>\n",
       "      <th>3</th>\n",
       "      <td>Week Two</td>\n",
       "      <td>1589.452235</td>\n",
       "    </tr>\n",
       "    <tr>\n",
       "      <th>1</th>\n",
       "      <td>Week One</td>\n",
       "      <td>1558.922781</td>\n",
       "    </tr>\n",
       "    <tr>\n",
       "      <th>2</th>\n",
       "      <td>Week Three</td>\n",
       "      <td>1544.737104</td>\n",
       "    </tr>\n",
       "    <tr>\n",
       "      <th>0</th>\n",
       "      <td>Week Four</td>\n",
       "      <td>1529.274536</td>\n",
       "    </tr>\n",
       "  </tbody>\n",
       "</table>\n",
       "</div>"
      ],
      "text/plain": [
       "  Pickup Week  Time from Pickup to Arrival\n",
       "3    Week Two                  1589.452235\n",
       "1    Week One                  1558.922781\n",
       "2  Week Three                  1544.737104\n",
       "0   Week Four                  1529.274536"
      ]
     },
     "execution_count": 72,
     "metadata": {},
     "output_type": "execute_result"
    }
   ],
   "source": [
    "Pickup_Week_Grouped=Data_With_New_Features.groupby(['Pickup Week'], as_index=False).mean()\n",
    "Pickup_Week_Grouped[['Pickup Week','Time from Pickup to Arrival']].sort_values('Time from Pickup to Arrival',ascending=False)"
   ]
  },
  {
   "cell_type": "code",
   "execution_count": 73,
   "metadata": {},
   "outputs": [
    {
     "data": {
      "text/html": [
       "<div>\n",
       "<style scoped>\n",
       "    .dataframe tbody tr th:only-of-type {\n",
       "        vertical-align: middle;\n",
       "    }\n",
       "\n",
       "    .dataframe tbody tr th {\n",
       "        vertical-align: top;\n",
       "    }\n",
       "\n",
       "    .dataframe thead th {\n",
       "        text-align: right;\n",
       "    }\n",
       "</style>\n",
       "<table border=\"1\" class=\"dataframe\">\n",
       "  <thead>\n",
       "    <tr style=\"text-align: right;\">\n",
       "      <th></th>\n",
       "      <th>Placement Period of day</th>\n",
       "      <th>Time from Pickup to Arrival</th>\n",
       "    </tr>\n",
       "  </thead>\n",
       "  <tbody>\n",
       "    <tr>\n",
       "      <th>1</th>\n",
       "      <td>Evening</td>\n",
       "      <td>1590.595861</td>\n",
       "    </tr>\n",
       "    <tr>\n",
       "      <th>0</th>\n",
       "      <td>Afternoon</td>\n",
       "      <td>1555.835951</td>\n",
       "    </tr>\n",
       "    <tr>\n",
       "      <th>2</th>\n",
       "      <td>Morning</td>\n",
       "      <td>1547.357776</td>\n",
       "    </tr>\n",
       "  </tbody>\n",
       "</table>\n",
       "</div>"
      ],
      "text/plain": [
       "  Placement Period of day  Time from Pickup to Arrival\n",
       "1                 Evening                  1590.595861\n",
       "0               Afternoon                  1555.835951\n",
       "2                 Morning                  1547.357776"
      ]
     },
     "execution_count": 73,
     "metadata": {},
     "output_type": "execute_result"
    }
   ],
   "source": [
    "Placement_Day_Period_Grouped=Data_With_New_Features.groupby(['Placement Period of day'], as_index=False).mean()\n",
    "Placement_Day_Period_Grouped[['Placement Period of day','Time from Pickup to Arrival']].sort_values('Time from Pickup to Arrival',ascending=False)"
   ]
  },
  {
   "cell_type": "markdown",
   "metadata": {},
   "source": [
    "Orders placed in the evening are delivered later than other periods of the day. Morning orders has the least ETA."
   ]
  },
  {
   "cell_type": "markdown",
   "metadata": {},
   "source": [
    "## Regression Analysis "
   ]
  },
  {
   "cell_type": "markdown",
   "metadata": {},
   "source": [
    "### Without New Features "
   ]
  },
  {
   "cell_type": "markdown",
   "metadata": {},
   "source": [
    "#### Dropping order Id, User Id, Vehicle type, Rider Id, all time data  and all latitude and longitude data"
   ]
  },
  {
   "cell_type": "code",
   "execution_count": 74,
   "metadata": {},
   "outputs": [],
   "source": [
    "Data_without_New_Features=Complete_Dataset.drop([\"Order No\", \"User Id\",\"Vehicle Type\",\"Rider Id\",\"Placement - Time\", \"Confirmation - Time\", \"Arrival at Pickup - Time\", \"Pickup - Time\", \"Arrival at Destination - Time\",\"Pickup Lat\", \"Pickup Long\", \"Destination Lat\", \"Destination Long\"], axis = 1)              "
   ]
  },
  {
   "cell_type": "markdown",
   "metadata": {},
   "source": [
    "### One hot encoding all object variables in the data without new features"
   ]
  },
  {
   "cell_type": "markdown",
   "metadata": {},
   "source": [
    "##### Selecting object data for encoding "
   ]
  },
  {
   "cell_type": "code",
   "execution_count": 75,
   "metadata": {},
   "outputs": [],
   "source": [
    "Object_Data_without_New_Features=Data_without_New_Features['Personal or Business']"
   ]
  },
  {
   "cell_type": "markdown",
   "metadata": {},
   "source": [
    "#### Encoding Object Data "
   ]
  },
  {
   "cell_type": "code",
   "execution_count": 76,
   "metadata": {},
   "outputs": [],
   "source": [
    "Dummies_Data_without_New_Features= pd.get_dummies(Object_Data_without_New_Features)"
   ]
  },
  {
   "cell_type": "code",
   "execution_count": 77,
   "metadata": {},
   "outputs": [
    {
     "data": {
      "text/html": [
       "<div>\n",
       "<style scoped>\n",
       "    .dataframe tbody tr th:only-of-type {\n",
       "        vertical-align: middle;\n",
       "    }\n",
       "\n",
       "    .dataframe tbody tr th {\n",
       "        vertical-align: top;\n",
       "    }\n",
       "\n",
       "    .dataframe thead th {\n",
       "        text-align: right;\n",
       "    }\n",
       "</style>\n",
       "<table border=\"1\" class=\"dataframe\">\n",
       "  <thead>\n",
       "    <tr style=\"text-align: right;\">\n",
       "      <th></th>\n",
       "      <th>Business</th>\n",
       "      <th>Personal</th>\n",
       "    </tr>\n",
       "  </thead>\n",
       "  <tbody>\n",
       "    <tr>\n",
       "      <th>0</th>\n",
       "      <td>1</td>\n",
       "      <td>0</td>\n",
       "    </tr>\n",
       "    <tr>\n",
       "      <th>1</th>\n",
       "      <td>0</td>\n",
       "      <td>1</td>\n",
       "    </tr>\n",
       "    <tr>\n",
       "      <th>2</th>\n",
       "      <td>1</td>\n",
       "      <td>0</td>\n",
       "    </tr>\n",
       "    <tr>\n",
       "      <th>3</th>\n",
       "      <td>0</td>\n",
       "      <td>1</td>\n",
       "    </tr>\n",
       "    <tr>\n",
       "      <th>4</th>\n",
       "      <td>0</td>\n",
       "      <td>1</td>\n",
       "    </tr>\n",
       "  </tbody>\n",
       "</table>\n",
       "</div>"
      ],
      "text/plain": [
       "   Business  Personal\n",
       "0         1         0\n",
       "1         0         1\n",
       "2         1         0\n",
       "3         0         1\n",
       "4         0         1"
      ]
     },
     "execution_count": 77,
     "metadata": {},
     "output_type": "execute_result"
    }
   ],
   "source": [
    "Dummies_Data_without_New_Features.head()"
   ]
  },
  {
   "cell_type": "markdown",
   "metadata": {},
   "source": [
    "#### Merging encoded data with original data"
   ]
  },
  {
   "cell_type": "code",
   "execution_count": 78,
   "metadata": {},
   "outputs": [],
   "source": [
    "Data_without_New_Features = pd.concat([Data_without_New_Features, Dummies_Data_without_New_Features], axis=1)"
   ]
  },
  {
   "cell_type": "markdown",
   "metadata": {},
   "source": [
    "#### Removing all object variables/features from data."
   ]
  },
  {
   "cell_type": "markdown",
   "metadata": {},
   "source": [
    "This is done because, object variables/features cannot be used in the regression model and also, it has already been encoded."
   ]
  },
  {
   "cell_type": "code",
   "execution_count": 79,
   "metadata": {},
   "outputs": [],
   "source": [
    "Reg_Data_without_New_Features = Data_without_New_Features.select_dtypes(exclude=['object'])"
   ]
  },
  {
   "cell_type": "markdown",
   "metadata": {},
   "source": [
    "#### Splitting data into target and independent variables "
   ]
  },
  {
   "cell_type": "code",
   "execution_count": 80,
   "metadata": {},
   "outputs": [],
   "source": [
    "Y_Reg_Data_without_New_Features=Reg_Data_without_New_Features[\"Time from Pickup to Arrival\"]\n",
    "X_Reg_Data_without_New_Features=Reg_Data_without_New_Features.drop(['Time from Pickup to Arrival'], axis = 1)"
   ]
  },
  {
   "cell_type": "markdown",
   "metadata": {},
   "source": [
    "#### Importing Scikit Learn Dependencies "
   ]
  },
  {
   "cell_type": "code",
   "execution_count": 81,
   "metadata": {},
   "outputs": [],
   "source": [
    "from sklearn.model_selection import train_test_split\n",
    "from sklearn.linear_model import LinearRegression\n",
    "from sklearn.metrics import mean_squared_error"
   ]
  },
  {
   "cell_type": "markdown",
   "metadata": {},
   "source": [
    "#### Splitting Data into 80% train and 20% test with a random seed of 42 "
   ]
  },
  {
   "cell_type": "code",
   "execution_count": 82,
   "metadata": {},
   "outputs": [],
   "source": [
    "x_Train, x_Test, y_Train, y_Test = train_test_split(X_Reg_Data_without_New_Features, Y_Reg_Data_without_New_Features, test_size = 0.2, random_state = 42)"
   ]
  },
  {
   "cell_type": "markdown",
   "metadata": {},
   "source": [
    "#### Fitting regression model with train data"
   ]
  },
  {
   "cell_type": "code",
   "execution_count": 83,
   "metadata": {},
   "outputs": [
    {
     "data": {
      "text/plain": [
       "LinearRegression(copy_X=True, fit_intercept=True, n_jobs=None, normalize=False)"
      ]
     },
     "execution_count": 83,
     "metadata": {},
     "output_type": "execute_result"
    }
   ],
   "source": [
    "reg=LinearRegression()\n",
    "reg.fit(x_Train,y_Train)"
   ]
  },
  {
   "cell_type": "markdown",
   "metadata": {},
   "source": [
    "#### Printing Coeffiecient for each feature used in model "
   ]
  },
  {
   "cell_type": "code",
   "execution_count": 84,
   "metadata": {},
   "outputs": [
    {
     "data": {
      "text/plain": [
       "array([ 1.54372314e+01, -2.07793989e+02, -2.07045894e+02,  5.14824313e+01,\n",
       "        5.22305267e+01,  5.14824313e+01,  5.22305267e+01,  5.14824313e+01,\n",
       "        5.22305267e+01,  5.14824313e+01,  5.22305267e+01,  1.00401138e+02,\n",
       "        3.79155296e+00, -1.06162480e-01,  9.26262985e-03, -4.25214760e+01,\n",
       "        2.85842057e-01, -2.16635052e+01,  2.16635052e+01])"
      ]
     },
     "execution_count": 84,
     "metadata": {},
     "output_type": "execute_result"
    }
   ],
   "source": [
    "reg.coef_"
   ]
  },
  {
   "cell_type": "markdown",
   "metadata": {},
   "source": [
    "#### Making prediction on the test dataset"
   ]
  },
  {
   "cell_type": "code",
   "execution_count": 85,
   "metadata": {},
   "outputs": [],
   "source": [
    "y_Pred = reg.predict(x_Test) "
   ]
  },
  {
   "cell_type": "markdown",
   "metadata": {},
   "source": [
    "#### Calculating MSE for the model "
   ]
  },
  {
   "cell_type": "code",
   "execution_count": 86,
   "metadata": {},
   "outputs": [],
   "source": [
    "Old_Features_Model_MSE=mean_squared_error(y_Test,y_Pred)"
   ]
  },
  {
   "cell_type": "code",
   "execution_count": 87,
   "metadata": {},
   "outputs": [
    {
     "data": {
      "text/plain": [
       "623869.7209475726"
      ]
     },
     "execution_count": 87,
     "metadata": {},
     "output_type": "execute_result"
    }
   ],
   "source": [
    "Old_Features_Model_MSE"
   ]
  },
  {
   "cell_type": "markdown",
   "metadata": {},
   "source": [
    "#  "
   ]
  },
  {
   "cell_type": "markdown",
   "metadata": {},
   "source": [
    "### Model With Engineered Features "
   ]
  },
  {
   "cell_type": "markdown",
   "metadata": {},
   "source": [
    "#### Dropping order Id, User Id, Vehicle type, Rider Id, all time data  and all latitude and longitude data "
   ]
  },
  {
   "cell_type": "code",
   "execution_count": 91,
   "metadata": {},
   "outputs": [],
   "source": [
    "New_Features_Data=Data_With_New_Features.drop([\"Order No\", \"User Id\",\"Vehicle Type\",\"Rider Id\",\"Placement - Time\", \"Confirmation - Time\", \"Arrival at Pickup - Time\", \"Pickup - Time\", \"Arrival at Destination - Time\",\"Pickup Lat\", \"Pickup Long\", \"Destination Lat\", \"Destination Long\"], axis = 1)   "
   ]
  },
  {
   "cell_type": "markdown",
   "metadata": {},
   "source": [
    "#### Selecting Object Data for Encoding"
   ]
  },
  {
   "cell_type": "code",
   "execution_count": 93,
   "metadata": {},
   "outputs": [],
   "source": [
    "Object_New_Features_Data = New_Features_Data.select_dtypes(include=['object'])"
   ]
  },
  {
   "cell_type": "markdown",
   "metadata": {},
   "source": [
    "#### Encoding Object Variable/Features "
   ]
  },
  {
   "cell_type": "code",
   "execution_count": 95,
   "metadata": {},
   "outputs": [],
   "source": [
    "Dummies_Object_New_Features_Data= pd.get_dummies(Object_New_Features_Data)"
   ]
  },
  {
   "cell_type": "markdown",
   "metadata": {},
   "source": [
    "#### Joining Encoded data with original data "
   ]
  },
  {
   "cell_type": "code",
   "execution_count": 97,
   "metadata": {},
   "outputs": [],
   "source": [
    "New_Features_Ready_Data = pd.concat([New_Features_Data, Dummies_Object_New_Features_Data], axis=1)"
   ]
  },
  {
   "cell_type": "markdown",
   "metadata": {},
   "source": [
    "#### Excluding Object Variables "
   ]
  },
  {
   "cell_type": "code",
   "execution_count": 98,
   "metadata": {},
   "outputs": [],
   "source": [
    "Reg_Data_with_Eng_Features = New_Features_Ready_Data.select_dtypes(exclude=['object'])"
   ]
  },
  {
   "cell_type": "markdown",
   "metadata": {},
   "source": [
    "#### Selecting target and dependent variables "
   ]
  },
  {
   "cell_type": "code",
   "execution_count": 99,
   "metadata": {},
   "outputs": [],
   "source": [
    "Y_Reg_Data_with_Eng_Features=Reg_Data_with_Eng_Features[\"Time from Pickup to Arrival\"]\n",
    "X_Reg_Data_with_Eng_Features=Reg_Data_with_Eng_Features.drop(['Time from Pickup to Arrival'], axis = 1)"
   ]
  },
  {
   "cell_type": "markdown",
   "metadata": {},
   "source": [
    "#### Splitting Data into 80% train and 20% test with a random seed of 42"
   ]
  },
  {
   "cell_type": "code",
   "execution_count": 100,
   "metadata": {},
   "outputs": [],
   "source": [
    "x_Eng_Train, x_Eng_Test, y_Eng_Train, y_Eng_Test = train_test_split(X_Reg_Data_with_Eng_Features, Y_Reg_Data_with_Eng_Features, test_size = 0.2, random_state = 42)"
   ]
  },
  {
   "cell_type": "markdown",
   "metadata": {},
   "source": [
    "#### Fittting  Model "
   ]
  },
  {
   "cell_type": "code",
   "execution_count": 101,
   "metadata": {},
   "outputs": [
    {
     "data": {
      "text/plain": [
       "LinearRegression(copy_X=True, fit_intercept=True, n_jobs=None, normalize=False)"
      ]
     },
     "execution_count": 101,
     "metadata": {},
     "output_type": "execute_result"
    }
   ],
   "source": [
    "Eng_reg=LinearRegression()\n",
    "Eng_reg.fit(x_Eng_Train,y_Eng_Train)"
   ]
  },
  {
   "cell_type": "markdown",
   "metadata": {},
   "source": [
    "#### Printing Coefficients for each feature "
   ]
  },
  {
   "cell_type": "code",
   "execution_count": 102,
   "metadata": {},
   "outputs": [
    {
     "data": {
      "text/plain": [
       "array([ 1.29693666e+01,  2.22647823e+12, -2.22647823e+12,  1.94218317e+12,\n",
       "        3.94407187e+12, -5.10928108e+12, -4.12534111e+11,  8.81480613e+11,\n",
       "       -1.38505886e+12,  5.91390691e+10,  7.99993265e+10,  1.08403320e+02,\n",
       "       -6.09814453e+00, -1.05224609e-01,  5.85937500e-03, -3.80596657e+01,\n",
       "        2.81250000e-01, -1.53945312e+01, -2.38747559e+01,  4.22857753e+09,\n",
       "        4.22857756e+09,  2.25024815e+09,  2.25024832e+09,  2.25024853e+09,\n",
       "       -1.49856596e+09, -1.49856605e+09, -1.49856591e+09, -1.66767438e+08,\n",
       "       -1.66767691e+08, -1.66767766e+08, -2.26481542e+09, -2.26481626e+09,\n",
       "       -2.26481678e+09, -1.57513546e+09, -1.57513495e+09, -1.57513436e+09,\n",
       "       -1.17113774e+09,  3.49328862e+09, -2.51298040e+09,  3.49328862e+09,\n",
       "        4.24758613e+09,  6.90687605e+08,  4.24758613e+09,  6.90687605e+08,\n",
       "        4.24758613e+09,  6.90687605e+08, -5.99090819e+08, -5.99090816e+08,\n",
       "        3.72331221e+09, -1.00839076e+10,  5.83315941e+09,  6.11832123e+09,\n",
       "        3.72331221e+09, -1.00839076e+10,  5.83315941e+09,  6.11832123e+09,\n",
       "        7.10841990e+09, -1.03459046e+10,  9.20525576e+09,  6.54075470e+09,\n",
       "        7.10841990e+09, -1.03459046e+10,  9.20525576e+09,  6.54075470e+09,\n",
       "       -2.08139455e+10,  4.17091431e+10, -2.92273116e+10, -2.44686332e+10])"
      ]
     },
     "execution_count": 102,
     "metadata": {},
     "output_type": "execute_result"
    }
   ],
   "source": [
    "Eng_reg.coef_"
   ]
  },
  {
   "cell_type": "markdown",
   "metadata": {},
   "source": [
    "#### Making Prediction for test data "
   ]
  },
  {
   "cell_type": "code",
   "execution_count": 103,
   "metadata": {},
   "outputs": [],
   "source": [
    "y_Reg_Pred = Eng_reg.predict(x_Eng_Test) "
   ]
  },
  {
   "cell_type": "markdown",
   "metadata": {},
   "source": [
    "####  Calculating the MSE for the engineered feature model"
   ]
  },
  {
   "cell_type": "code",
   "execution_count": 104,
   "metadata": {},
   "outputs": [],
   "source": [
    "Engineered_Features_Model_MSE=mean_squared_error(y_Eng_Test,y_Reg_Pred)"
   ]
  },
  {
   "cell_type": "code",
   "execution_count": 105,
   "metadata": {},
   "outputs": [
    {
     "data": {
      "text/plain": [
       "586031.0319577145"
      ]
     },
     "execution_count": 105,
     "metadata": {},
     "output_type": "execute_result"
    }
   ],
   "source": [
    "Engineered_Features_Model_MSE"
   ]
  },
  {
   "cell_type": "markdown",
   "metadata": {},
   "source": [
    "After the new features were engineered, the MSE reduced from 623,869.72 to  586,031.03"
   ]
  },
  {
   "cell_type": "markdown",
   "metadata": {},
   "source": [
    "#  "
   ]
  },
  {
   "cell_type": "markdown",
   "metadata": {},
   "source": [
    "## Feature Selection "
   ]
  },
  {
   "cell_type": "markdown",
   "metadata": {},
   "source": [
    "Doing feature filtering to know variables which will contribute better to model"
   ]
  },
  {
   "cell_type": "markdown",
   "metadata": {},
   "source": [
    "#### Importing Feature Selection Libraries "
   ]
  },
  {
   "cell_type": "code",
   "execution_count": 106,
   "metadata": {},
   "outputs": [],
   "source": [
    "from sklearn.feature_selection import SelectKBest\n",
    "from sklearn.feature_selection import chi2"
   ]
  },
  {
   "cell_type": "code",
   "execution_count": 108,
   "metadata": {},
   "outputs": [],
   "source": [
    "# Feature extraction\n",
    "test = SelectKBest(score_func=chi2, k=10)\n",
    "fit = test.fit(X_Reg_Data_with_Eng_Features, Y_Reg_Data_with_Eng_Features)\n",
    "\n",
    "# Summarize scores\n",
    "np.set_printoptions(precision=3)\n",
    "fit_Score=fit.scores_"
   ]
  },
  {
   "cell_type": "code",
   "execution_count": 109,
   "metadata": {},
   "outputs": [],
   "source": [
    "feature_Details = pd.DataFrame([X_Reg_Data_with_Eng_Features.columns, fit_Score]).transpose()"
   ]
  },
  {
   "cell_type": "markdown",
   "metadata": {},
   "source": [
    "#### Renaming Columns of feature details table"
   ]
  },
  {
   "cell_type": "code",
   "execution_count": 110,
   "metadata": {},
   "outputs": [],
   "source": [
    "feature_Details.columns = ['Attribute','Score']"
   ]
  },
  {
   "cell_type": "markdown",
   "metadata": {},
   "source": [
    "#### Sorting the score of features in descending order "
   ]
  },
  {
   "cell_type": "code",
   "execution_count": 111,
   "metadata": {},
   "outputs": [
    {
     "data": {
      "text/html": [
       "<div>\n",
       "<style scoped>\n",
       "    .dataframe tbody tr th:only-of-type {\n",
       "        vertical-align: middle;\n",
       "    }\n",
       "\n",
       "    .dataframe tbody tr th {\n",
       "        vertical-align: top;\n",
       "    }\n",
       "\n",
       "    .dataframe thead th {\n",
       "        text-align: right;\n",
       "    }\n",
       "</style>\n",
       "<table border=\"1\" class=\"dataframe\">\n",
       "  <thead>\n",
       "    <tr style=\"text-align: right;\">\n",
       "      <th></th>\n",
       "      <th>Attribute</th>\n",
       "      <th>Score</th>\n",
       "    </tr>\n",
       "  </thead>\n",
       "  <tbody>\n",
       "    <tr>\n",
       "      <th>13</th>\n",
       "      <td>No_Of_Orders</td>\n",
       "      <td>6.73885e+06</td>\n",
       "    </tr>\n",
       "    <tr>\n",
       "      <th>16</th>\n",
       "      <td>No_of_Ratings</td>\n",
       "      <td>2.03662e+06</td>\n",
       "    </tr>\n",
       "    <tr>\n",
       "      <th>14</th>\n",
       "      <td>Age</td>\n",
       "      <td>1.89515e+06</td>\n",
       "    </tr>\n",
       "    <tr>\n",
       "      <th>11</th>\n",
       "      <td>Distance (KM)</td>\n",
       "      <td>42060.6</td>\n",
       "    </tr>\n",
       "    <tr>\n",
       "      <th>9</th>\n",
       "      <td>Arrival at Destination - Day of Month</td>\n",
       "      <td>20114.5</td>\n",
       "    </tr>\n",
       "    <tr>\n",
       "      <th>3</th>\n",
       "      <td>Confirmation - Day of Month</td>\n",
       "      <td>20114.5</td>\n",
       "    </tr>\n",
       "    <tr>\n",
       "      <th>5</th>\n",
       "      <td>Arrival at Pickup - Day of Month</td>\n",
       "      <td>20114.5</td>\n",
       "    </tr>\n",
       "    <tr>\n",
       "      <th>7</th>\n",
       "      <td>Pickup - Day of Month</td>\n",
       "      <td>20114.5</td>\n",
       "    </tr>\n",
       "    <tr>\n",
       "      <th>1</th>\n",
       "      <td>Placement - Day of Month</td>\n",
       "      <td>20114.1</td>\n",
       "    </tr>\n",
       "    <tr>\n",
       "      <th>18</th>\n",
       "      <td>CBD Proximity to Destination</td>\n",
       "      <td>18014.8</td>\n",
       "    </tr>\n",
       "    <tr>\n",
       "      <th>17</th>\n",
       "      <td>CBD Proximity to Pickup Point</td>\n",
       "      <td>10742.6</td>\n",
       "    </tr>\n",
       "    <tr>\n",
       "      <th>34</th>\n",
       "      <td>Pickup Period of day_Evening</td>\n",
       "      <td>3653.96</td>\n",
       "    </tr>\n",
       "    <tr>\n",
       "      <th>41</th>\n",
       "      <td>Pickup day_Weekend</td>\n",
       "      <td>3633.28</td>\n",
       "    </tr>\n",
       "    <tr>\n",
       "      <th>37</th>\n",
       "      <td>Placement day_Weekend</td>\n",
       "      <td>3633.28</td>\n",
       "    </tr>\n",
       "    <tr>\n",
       "      <th>39</th>\n",
       "      <td>Confirmation day_Weekend</td>\n",
       "      <td>3633.28</td>\n",
       "    </tr>\n",
       "    <tr>\n",
       "      <th>43</th>\n",
       "      <td>Arrival at Destination day_Weekend</td>\n",
       "      <td>3633.28</td>\n",
       "    </tr>\n",
       "    <tr>\n",
       "      <th>45</th>\n",
       "      <td>Arrival at Pickup day_Weekend</td>\n",
       "      <td>3633.28</td>\n",
       "    </tr>\n",
       "    <tr>\n",
       "      <th>25</th>\n",
       "      <td>Confirmation Period of day_Evening</td>\n",
       "      <td>3612.39</td>\n",
       "    </tr>\n",
       "    <tr>\n",
       "      <th>28</th>\n",
       "      <td>Arrival at Pickup Period of day_Evening</td>\n",
       "      <td>3602.97</td>\n",
       "    </tr>\n",
       "    <tr>\n",
       "      <th>31</th>\n",
       "      <td>Arrival at Destination Period of day_Evening</td>\n",
       "      <td>3579.16</td>\n",
       "    </tr>\n",
       "    <tr>\n",
       "      <th>22</th>\n",
       "      <td>Placement Period of day_Evening</td>\n",
       "      <td>3573.92</td>\n",
       "    </tr>\n",
       "    <tr>\n",
       "      <th>20</th>\n",
       "      <td>Personal or Business_Personal</td>\n",
       "      <td>3288.97</td>\n",
       "    </tr>\n",
       "    <tr>\n",
       "      <th>47</th>\n",
       "      <td>Temperature Condition_Unfavourable</td>\n",
       "      <td>3114.5</td>\n",
       "    </tr>\n",
       "    <tr>\n",
       "      <th>53</th>\n",
       "      <td>Confirmation Week_Week One</td>\n",
       "      <td>3109.31</td>\n",
       "    </tr>\n",
       "    <tr>\n",
       "      <th>61</th>\n",
       "      <td>Pickup Week_Week One</td>\n",
       "      <td>3109.31</td>\n",
       "    </tr>\n",
       "    <tr>\n",
       "      <th>57</th>\n",
       "      <td>Arrival at Pickup Week_Week One</td>\n",
       "      <td>3109.31</td>\n",
       "    </tr>\n",
       "    <tr>\n",
       "      <th>49</th>\n",
       "      <td>Placement Week_Week One</td>\n",
       "      <td>3109.31</td>\n",
       "    </tr>\n",
       "    <tr>\n",
       "      <th>65</th>\n",
       "      <td>Arrival at Destination Week_Week One</td>\n",
       "      <td>3109.31</td>\n",
       "    </tr>\n",
       "    <tr>\n",
       "      <th>54</th>\n",
       "      <td>Confirmation Week_Week Three</td>\n",
       "      <td>3104.89</td>\n",
       "    </tr>\n",
       "    <tr>\n",
       "      <th>50</th>\n",
       "      <td>Placement Week_Week Three</td>\n",
       "      <td>3104.89</td>\n",
       "    </tr>\n",
       "    <tr>\n",
       "      <th>...</th>\n",
       "      <td>...</td>\n",
       "      <td>...</td>\n",
       "    </tr>\n",
       "    <tr>\n",
       "      <th>10</th>\n",
       "      <td>Arrival at Destination - Weekday (Mo = 1)</td>\n",
       "      <td>3044.33</td>\n",
       "    </tr>\n",
       "    <tr>\n",
       "      <th>8</th>\n",
       "      <td>Pickup - Weekday (Mo = 1)</td>\n",
       "      <td>3044.33</td>\n",
       "    </tr>\n",
       "    <tr>\n",
       "      <th>6</th>\n",
       "      <td>Arrival at Pickup - Weekday (Mo = 1)</td>\n",
       "      <td>3044.33</td>\n",
       "    </tr>\n",
       "    <tr>\n",
       "      <th>4</th>\n",
       "      <td>Confirmation - Weekday (Mo = 1)</td>\n",
       "      <td>3044.33</td>\n",
       "    </tr>\n",
       "    <tr>\n",
       "      <th>2</th>\n",
       "      <td>Placement - Weekday (Mo = 1)</td>\n",
       "      <td>3044.1</td>\n",
       "    </tr>\n",
       "    <tr>\n",
       "      <th>55</th>\n",
       "      <td>Confirmation Week_Week Two</td>\n",
       "      <td>3009.66</td>\n",
       "    </tr>\n",
       "    <tr>\n",
       "      <th>59</th>\n",
       "      <td>Arrival at Pickup Week_Week Two</td>\n",
       "      <td>3009.66</td>\n",
       "    </tr>\n",
       "    <tr>\n",
       "      <th>63</th>\n",
       "      <td>Pickup Week_Week Two</td>\n",
       "      <td>3009.66</td>\n",
       "    </tr>\n",
       "    <tr>\n",
       "      <th>51</th>\n",
       "      <td>Placement Week_Week Two</td>\n",
       "      <td>3009.66</td>\n",
       "    </tr>\n",
       "    <tr>\n",
       "      <th>67</th>\n",
       "      <td>Arrival at Destination Week_Week Two</td>\n",
       "      <td>3009.66</td>\n",
       "    </tr>\n",
       "    <tr>\n",
       "      <th>32</th>\n",
       "      <td>Arrival at Destination Period of day_Morning</td>\n",
       "      <td>2776.54</td>\n",
       "    </tr>\n",
       "    <tr>\n",
       "      <th>35</th>\n",
       "      <td>Pickup Period of day_Morning</td>\n",
       "      <td>2692.86</td>\n",
       "    </tr>\n",
       "    <tr>\n",
       "      <th>29</th>\n",
       "      <td>Arrival at Pickup Period of day_Morning</td>\n",
       "      <td>2591.09</td>\n",
       "    </tr>\n",
       "    <tr>\n",
       "      <th>26</th>\n",
       "      <td>Confirmation Period of day_Morning</td>\n",
       "      <td>2505.69</td>\n",
       "    </tr>\n",
       "    <tr>\n",
       "      <th>23</th>\n",
       "      <td>Placement Period of day_Morning</td>\n",
       "      <td>2485.52</td>\n",
       "    </tr>\n",
       "    <tr>\n",
       "      <th>21</th>\n",
       "      <td>Placement Period of day_Afternoon</td>\n",
       "      <td>2204.32</td>\n",
       "    </tr>\n",
       "    <tr>\n",
       "      <th>24</th>\n",
       "      <td>Confirmation Period of day_Afternoon</td>\n",
       "      <td>2122.26</td>\n",
       "    </tr>\n",
       "    <tr>\n",
       "      <th>27</th>\n",
       "      <td>Arrival at Pickup Period of day_Afternoon</td>\n",
       "      <td>2006.21</td>\n",
       "    </tr>\n",
       "    <tr>\n",
       "      <th>33</th>\n",
       "      <td>Pickup Period of day_Afternoon</td>\n",
       "      <td>1908.46</td>\n",
       "    </tr>\n",
       "    <tr>\n",
       "      <th>12</th>\n",
       "      <td>Temperature</td>\n",
       "      <td>1768.09</td>\n",
       "    </tr>\n",
       "    <tr>\n",
       "      <th>30</th>\n",
       "      <td>Arrival at Destination Period of day_Afternoon</td>\n",
       "      <td>1678.77</td>\n",
       "    </tr>\n",
       "    <tr>\n",
       "      <th>46</th>\n",
       "      <td>Temperature Condition_Favourable</td>\n",
       "      <td>796.334</td>\n",
       "    </tr>\n",
       "    <tr>\n",
       "      <th>19</th>\n",
       "      <td>Personal or Business_Business</td>\n",
       "      <td>722.157</td>\n",
       "    </tr>\n",
       "    <tr>\n",
       "      <th>0</th>\n",
       "      <td>Platform Type</td>\n",
       "      <td>554.974</td>\n",
       "    </tr>\n",
       "    <tr>\n",
       "      <th>15</th>\n",
       "      <td>Average_Rating</td>\n",
       "      <td>297.553</td>\n",
       "    </tr>\n",
       "    <tr>\n",
       "      <th>44</th>\n",
       "      <td>Arrival at Pickup day_Weekday</td>\n",
       "      <td>258.654</td>\n",
       "    </tr>\n",
       "    <tr>\n",
       "      <th>36</th>\n",
       "      <td>Placement day_Weekday</td>\n",
       "      <td>258.654</td>\n",
       "    </tr>\n",
       "    <tr>\n",
       "      <th>38</th>\n",
       "      <td>Confirmation day_Weekday</td>\n",
       "      <td>258.654</td>\n",
       "    </tr>\n",
       "    <tr>\n",
       "      <th>40</th>\n",
       "      <td>Pickup day_Weekday</td>\n",
       "      <td>258.654</td>\n",
       "    </tr>\n",
       "    <tr>\n",
       "      <th>42</th>\n",
       "      <td>Arrival at Destination day_Weekday</td>\n",
       "      <td>258.654</td>\n",
       "    </tr>\n",
       "  </tbody>\n",
       "</table>\n",
       "<p>68 rows × 2 columns</p>\n",
       "</div>"
      ],
      "text/plain": [
       "                                         Attribute        Score\n",
       "13                                    No_Of_Orders  6.73885e+06\n",
       "16                                   No_of_Ratings  2.03662e+06\n",
       "14                                             Age  1.89515e+06\n",
       "11                                   Distance (KM)      42060.6\n",
       "9            Arrival at Destination - Day of Month      20114.5\n",
       "3                      Confirmation - Day of Month      20114.5\n",
       "5                 Arrival at Pickup - Day of Month      20114.5\n",
       "7                            Pickup - Day of Month      20114.5\n",
       "1                         Placement - Day of Month      20114.1\n",
       "18                    CBD Proximity to Destination      18014.8\n",
       "17                   CBD Proximity to Pickup Point      10742.6\n",
       "34                    Pickup Period of day_Evening      3653.96\n",
       "41                              Pickup day_Weekend      3633.28\n",
       "37                           Placement day_Weekend      3633.28\n",
       "39                        Confirmation day_Weekend      3633.28\n",
       "43              Arrival at Destination day_Weekend      3633.28\n",
       "45                   Arrival at Pickup day_Weekend      3633.28\n",
       "25              Confirmation Period of day_Evening      3612.39\n",
       "28         Arrival at Pickup Period of day_Evening      3602.97\n",
       "31    Arrival at Destination Period of day_Evening      3579.16\n",
       "22                 Placement Period of day_Evening      3573.92\n",
       "20                   Personal or Business_Personal      3288.97\n",
       "47              Temperature Condition_Unfavourable       3114.5\n",
       "53                      Confirmation Week_Week One      3109.31\n",
       "61                            Pickup Week_Week One      3109.31\n",
       "57                 Arrival at Pickup Week_Week One      3109.31\n",
       "49                         Placement Week_Week One      3109.31\n",
       "65            Arrival at Destination Week_Week One      3109.31\n",
       "54                    Confirmation Week_Week Three      3104.89\n",
       "50                       Placement Week_Week Three      3104.89\n",
       "..                                             ...          ...\n",
       "10       Arrival at Destination - Weekday (Mo = 1)      3044.33\n",
       "8                        Pickup - Weekday (Mo = 1)      3044.33\n",
       "6             Arrival at Pickup - Weekday (Mo = 1)      3044.33\n",
       "4                  Confirmation - Weekday (Mo = 1)      3044.33\n",
       "2                     Placement - Weekday (Mo = 1)       3044.1\n",
       "55                      Confirmation Week_Week Two      3009.66\n",
       "59                 Arrival at Pickup Week_Week Two      3009.66\n",
       "63                            Pickup Week_Week Two      3009.66\n",
       "51                         Placement Week_Week Two      3009.66\n",
       "67            Arrival at Destination Week_Week Two      3009.66\n",
       "32    Arrival at Destination Period of day_Morning      2776.54\n",
       "35                    Pickup Period of day_Morning      2692.86\n",
       "29         Arrival at Pickup Period of day_Morning      2591.09\n",
       "26              Confirmation Period of day_Morning      2505.69\n",
       "23                 Placement Period of day_Morning      2485.52\n",
       "21               Placement Period of day_Afternoon      2204.32\n",
       "24            Confirmation Period of day_Afternoon      2122.26\n",
       "27       Arrival at Pickup Period of day_Afternoon      2006.21\n",
       "33                  Pickup Period of day_Afternoon      1908.46\n",
       "12                                     Temperature      1768.09\n",
       "30  Arrival at Destination Period of day_Afternoon      1678.77\n",
       "46                Temperature Condition_Favourable      796.334\n",
       "19                   Personal or Business_Business      722.157\n",
       "0                                    Platform Type      554.974\n",
       "15                                  Average_Rating      297.553\n",
       "44                   Arrival at Pickup day_Weekday      258.654\n",
       "36                           Placement day_Weekday      258.654\n",
       "38                        Confirmation day_Weekday      258.654\n",
       "40                              Pickup day_Weekday      258.654\n",
       "42              Arrival at Destination day_Weekday      258.654\n",
       "\n",
       "[68 rows x 2 columns]"
      ]
     },
     "execution_count": 111,
     "metadata": {},
     "output_type": "execute_result"
    }
   ],
   "source": [
    "feature_Details.sort_values(by='Score', ascending=False)"
   ]
  },
  {
   "cell_type": "markdown",
   "metadata": {},
   "source": [
    "#  "
   ]
  },
  {
   "cell_type": "markdown",
   "metadata": {},
   "source": [
    "## PCA "
   ]
  },
  {
   "cell_type": "code",
   "execution_count": null,
   "metadata": {},
   "outputs": [],
   "source": []
  }
 ],
 "metadata": {
  "kernelspec": {
   "display_name": "Python 3",
   "language": "python",
   "name": "python3"
  },
  "language_info": {
   "codemirror_mode": {
    "name": "ipython",
    "version": 3
   },
   "file_extension": ".py",
   "mimetype": "text/x-python",
   "name": "python",
   "nbconvert_exporter": "python",
   "pygments_lexer": "ipython3",
   "version": "3.7.3"
  }
 },
 "nbformat": 4,
 "nbformat_minor": 2
}
